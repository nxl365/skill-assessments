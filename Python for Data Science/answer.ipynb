{
 "cells": [
  {
   "attachments": {},
   "cell_type": "markdown",
   "metadata": {},
   "source": [
    "##### this is my answer of Python for data science"
   ]
  },
  {
   "cell_type": "code",
   "execution_count": 175,
   "metadata": {},
   "outputs": [],
   "source": [
    "import pandas as pd\n",
    "\n",
    "import matplotlib.pyplot as plt\n",
    "\n",
    "from scipy.stats import pearsonr\n",
    "\n",
    "import plotly.express as px\n",
    "\n",
    "from scipy.stats import f_oneway\n",
    "\n",
    "from scipy.stats import ttest_ind\n"
   ]
  },
  {
   "attachments": {},
   "cell_type": "markdown",
   "metadata": {},
   "source": [
    "# part 1"
   ]
  },
  {
   "attachments": {},
   "cell_type": "markdown",
   "metadata": {},
   "source": [
    "## 1. "
   ]
  },
  {
   "cell_type": "code",
   "execution_count": 176,
   "metadata": {},
   "outputs": [
    {
     "data": {
      "text/html": [
       "<div>\n",
       "<style scoped>\n",
       "    .dataframe tbody tr th:only-of-type {\n",
       "        vertical-align: middle;\n",
       "    }\n",
       "\n",
       "    .dataframe tbody tr th {\n",
       "        vertical-align: top;\n",
       "    }\n",
       "\n",
       "    .dataframe thead th {\n",
       "        text-align: right;\n",
       "    }\n",
       "</style>\n",
       "<table border=\"1\" class=\"dataframe\">\n",
       "  <thead>\n",
       "    <tr style=\"text-align: right;\">\n",
       "      <th></th>\n",
       "      <th>Unnamed: 0</th>\n",
       "      <th>Country Name</th>\n",
       "      <th>Year</th>\n",
       "      <th>Agriculture, value added (% of GDP)</th>\n",
       "      <th>CO2 emissions (metric tons per capita)</th>\n",
       "      <th>Domestic credit provided by financial sector (% of GDP)</th>\n",
       "      <th>Electric power consumption (kWh per capita)</th>\n",
       "      <th>Energy use (kg of oil equivalent per capita)</th>\n",
       "      <th>Exports of goods and services (% of GDP)</th>\n",
       "      <th>Fertility rate, total (births per woman)</th>\n",
       "      <th>GDP growth (annual %)</th>\n",
       "      <th>Imports of goods and services (% of GDP)</th>\n",
       "      <th>Industry, value added (% of GDP)</th>\n",
       "      <th>Inflation, GDP deflator (annual %)</th>\n",
       "      <th>Life expectancy at birth, total (years)</th>\n",
       "      <th>Population density (people per sq. km of land area)</th>\n",
       "      <th>Services, etc., value added (% of GDP)</th>\n",
       "      <th>pop</th>\n",
       "      <th>continent</th>\n",
       "      <th>gdpPercap</th>\n",
       "    </tr>\n",
       "  </thead>\n",
       "  <tbody>\n",
       "    <tr>\n",
       "      <th>0</th>\n",
       "      <td>0</td>\n",
       "      <td>Afghanistan</td>\n",
       "      <td>1962</td>\n",
       "      <td>NaN</td>\n",
       "      <td>0.073781</td>\n",
       "      <td>21.276422</td>\n",
       "      <td>NaN</td>\n",
       "      <td>NaN</td>\n",
       "      <td>4.878051</td>\n",
       "      <td>7.450</td>\n",
       "      <td>NaN</td>\n",
       "      <td>9.349593</td>\n",
       "      <td>NaN</td>\n",
       "      <td>NaN</td>\n",
       "      <td>33.219902</td>\n",
       "      <td>14.312061</td>\n",
       "      <td>NaN</td>\n",
       "      <td>10267083.0</td>\n",
       "      <td>Asia</td>\n",
       "      <td>853.100710</td>\n",
       "    </tr>\n",
       "    <tr>\n",
       "      <th>1</th>\n",
       "      <td>1</td>\n",
       "      <td>Afghanistan</td>\n",
       "      <td>1967</td>\n",
       "      <td>NaN</td>\n",
       "      <td>0.123782</td>\n",
       "      <td>9.917662</td>\n",
       "      <td>NaN</td>\n",
       "      <td>NaN</td>\n",
       "      <td>6.772908</td>\n",
       "      <td>7.450</td>\n",
       "      <td>NaN</td>\n",
       "      <td>14.209827</td>\n",
       "      <td>NaN</td>\n",
       "      <td>NaN</td>\n",
       "      <td>35.389415</td>\n",
       "      <td>15.881812</td>\n",
       "      <td>NaN</td>\n",
       "      <td>11537966.0</td>\n",
       "      <td>Asia</td>\n",
       "      <td>836.197138</td>\n",
       "    </tr>\n",
       "    <tr>\n",
       "      <th>2</th>\n",
       "      <td>2</td>\n",
       "      <td>Afghanistan</td>\n",
       "      <td>1972</td>\n",
       "      <td>NaN</td>\n",
       "      <td>0.130820</td>\n",
       "      <td>18.880833</td>\n",
       "      <td>NaN</td>\n",
       "      <td>NaN</td>\n",
       "      <td>14.763231</td>\n",
       "      <td>7.450</td>\n",
       "      <td>NaN</td>\n",
       "      <td>18.105850</td>\n",
       "      <td>NaN</td>\n",
       "      <td>NaN</td>\n",
       "      <td>37.610146</td>\n",
       "      <td>17.947027</td>\n",
       "      <td>NaN</td>\n",
       "      <td>13079460.0</td>\n",
       "      <td>Asia</td>\n",
       "      <td>739.981106</td>\n",
       "    </tr>\n",
       "    <tr>\n",
       "      <th>3</th>\n",
       "      <td>3</td>\n",
       "      <td>Afghanistan</td>\n",
       "      <td>1977</td>\n",
       "      <td>NaN</td>\n",
       "      <td>0.183118</td>\n",
       "      <td>13.836822</td>\n",
       "      <td>NaN</td>\n",
       "      <td>NaN</td>\n",
       "      <td>11.662904</td>\n",
       "      <td>7.449</td>\n",
       "      <td>NaN</td>\n",
       "      <td>14.823175</td>\n",
       "      <td>NaN</td>\n",
       "      <td>NaN</td>\n",
       "      <td>40.110146</td>\n",
       "      <td>19.998926</td>\n",
       "      <td>NaN</td>\n",
       "      <td>14880372.0</td>\n",
       "      <td>Asia</td>\n",
       "      <td>786.113360</td>\n",
       "    </tr>\n",
       "    <tr>\n",
       "      <th>4</th>\n",
       "      <td>4</td>\n",
       "      <td>Afghanistan</td>\n",
       "      <td>1982</td>\n",
       "      <td>NaN</td>\n",
       "      <td>0.165879</td>\n",
       "      <td>NaN</td>\n",
       "      <td>NaN</td>\n",
       "      <td>NaN</td>\n",
       "      <td>NaN</td>\n",
       "      <td>7.450</td>\n",
       "      <td>NaN</td>\n",
       "      <td>NaN</td>\n",
       "      <td>NaN</td>\n",
       "      <td>NaN</td>\n",
       "      <td>43.230732</td>\n",
       "      <td>19.402324</td>\n",
       "      <td>NaN</td>\n",
       "      <td>12881816.0</td>\n",
       "      <td>Asia</td>\n",
       "      <td>978.011439</td>\n",
       "    </tr>\n",
       "    <tr>\n",
       "      <th>...</th>\n",
       "      <td>...</td>\n",
       "      <td>...</td>\n",
       "      <td>...</td>\n",
       "      <td>...</td>\n",
       "      <td>...</td>\n",
       "      <td>...</td>\n",
       "      <td>...</td>\n",
       "      <td>...</td>\n",
       "      <td>...</td>\n",
       "      <td>...</td>\n",
       "      <td>...</td>\n",
       "      <td>...</td>\n",
       "      <td>...</td>\n",
       "      <td>...</td>\n",
       "      <td>...</td>\n",
       "      <td>...</td>\n",
       "      <td>...</td>\n",
       "      <td>...</td>\n",
       "      <td>...</td>\n",
       "      <td>...</td>\n",
       "    </tr>\n",
       "    <tr>\n",
       "      <th>2602</th>\n",
       "      <td>2602</td>\n",
       "      <td>Zimbabwe</td>\n",
       "      <td>1987</td>\n",
       "      <td>14.407528</td>\n",
       "      <td>1.598217</td>\n",
       "      <td>74.161607</td>\n",
       "      <td>878.072691</td>\n",
       "      <td>896.673611</td>\n",
       "      <td>24.015710</td>\n",
       "      <td>5.784</td>\n",
       "      <td>1.150737</td>\n",
       "      <td>21.274886</td>\n",
       "      <td>32.451242</td>\n",
       "      <td>7.189361</td>\n",
       "      <td>61.753805</td>\n",
       "      <td>24.649495</td>\n",
       "      <td>53.141236</td>\n",
       "      <td>9216418.0</td>\n",
       "      <td>Africa</td>\n",
       "      <td>706.157306</td>\n",
       "    </tr>\n",
       "    <tr>\n",
       "      <th>2603</th>\n",
       "      <td>2603</td>\n",
       "      <td>Zimbabwe</td>\n",
       "      <td>1992</td>\n",
       "      <td>7.413793</td>\n",
       "      <td>1.533724</td>\n",
       "      <td>43.120518</td>\n",
       "      <td>778.695133</td>\n",
       "      <td>923.493407</td>\n",
       "      <td>27.227263</td>\n",
       "      <td>4.840</td>\n",
       "      <td>-9.015570</td>\n",
       "      <td>36.485231</td>\n",
       "      <td>40.862069</td>\n",
       "      <td>-14.129659</td>\n",
       "      <td>56.491976</td>\n",
       "      <td>28.485762</td>\n",
       "      <td>51.724135</td>\n",
       "      <td>10704340.0</td>\n",
       "      <td>Africa</td>\n",
       "      <td>693.420786</td>\n",
       "    </tr>\n",
       "    <tr>\n",
       "      <th>2604</th>\n",
       "      <td>2604</td>\n",
       "      <td>Zimbabwe</td>\n",
       "      <td>1997</td>\n",
       "      <td>18.934082</td>\n",
       "      <td>1.194678</td>\n",
       "      <td>63.058320</td>\n",
       "      <td>870.988697</td>\n",
       "      <td>804.508892</td>\n",
       "      <td>37.595273</td>\n",
       "      <td>4.237</td>\n",
       "      <td>2.680594</td>\n",
       "      <td>44.609791</td>\n",
       "      <td>25.554678</td>\n",
       "      <td>-2.879048</td>\n",
       "      <td>46.065902</td>\n",
       "      <td>31.174507</td>\n",
       "      <td>55.511236</td>\n",
       "      <td>11404948.0</td>\n",
       "      <td>Africa</td>\n",
       "      <td>792.449960</td>\n",
       "    </tr>\n",
       "    <tr>\n",
       "      <th>2605</th>\n",
       "      <td>2605</td>\n",
       "      <td>Zimbabwe</td>\n",
       "      <td>2002</td>\n",
       "      <td>14.029007</td>\n",
       "      <td>0.942795</td>\n",
       "      <td>164.559047</td>\n",
       "      <td>827.329873</td>\n",
       "      <td>772.676619</td>\n",
       "      <td>31.834799</td>\n",
       "      <td>4.018</td>\n",
       "      <td>-8.894023</td>\n",
       "      <td>34.972553</td>\n",
       "      <td>NaN</td>\n",
       "      <td>2.712950</td>\n",
       "      <td>40.679146</td>\n",
       "      <td>32.807111</td>\n",
       "      <td>NaN</td>\n",
       "      <td>11926563.0</td>\n",
       "      <td>Africa</td>\n",
       "      <td>672.038623</td>\n",
       "    </tr>\n",
       "    <tr>\n",
       "      <th>2606</th>\n",
       "      <td>2606</td>\n",
       "      <td>Zimbabwe</td>\n",
       "      <td>2007</td>\n",
       "      <td>21.597907</td>\n",
       "      <td>0.743449</td>\n",
       "      <td>NaN</td>\n",
       "      <td>700.642317</td>\n",
       "      <td>725.681049</td>\n",
       "      <td>37.785373</td>\n",
       "      <td>4.022</td>\n",
       "      <td>-3.653327</td>\n",
       "      <td>46.387531</td>\n",
       "      <td>33.074953</td>\n",
       "      <td>0.894887</td>\n",
       "      <td>44.177756</td>\n",
       "      <td>34.374559</td>\n",
       "      <td>45.327139</td>\n",
       "      <td>12311143.0</td>\n",
       "      <td>Africa</td>\n",
       "      <td>469.709298</td>\n",
       "    </tr>\n",
       "  </tbody>\n",
       "</table>\n",
       "<p>2607 rows × 20 columns</p>\n",
       "</div>"
      ],
      "text/plain": [
       "      Unnamed: 0 Country Name  Year  Agriculture, value added (% of GDP)  \\\n",
       "0              0  Afghanistan  1962                                  NaN   \n",
       "1              1  Afghanistan  1967                                  NaN   \n",
       "2              2  Afghanistan  1972                                  NaN   \n",
       "3              3  Afghanistan  1977                                  NaN   \n",
       "4              4  Afghanistan  1982                                  NaN   \n",
       "...          ...          ...   ...                                  ...   \n",
       "2602        2602     Zimbabwe  1987                            14.407528   \n",
       "2603        2603     Zimbabwe  1992                             7.413793   \n",
       "2604        2604     Zimbabwe  1997                            18.934082   \n",
       "2605        2605     Zimbabwe  2002                            14.029007   \n",
       "2606        2606     Zimbabwe  2007                            21.597907   \n",
       "\n",
       "      CO2 emissions (metric tons per capita)  \\\n",
       "0                                   0.073781   \n",
       "1                                   0.123782   \n",
       "2                                   0.130820   \n",
       "3                                   0.183118   \n",
       "4                                   0.165879   \n",
       "...                                      ...   \n",
       "2602                                1.598217   \n",
       "2603                                1.533724   \n",
       "2604                                1.194678   \n",
       "2605                                0.942795   \n",
       "2606                                0.743449   \n",
       "\n",
       "      Domestic credit provided by financial sector (% of GDP)  \\\n",
       "0                                             21.276422         \n",
       "1                                              9.917662         \n",
       "2                                             18.880833         \n",
       "3                                             13.836822         \n",
       "4                                                   NaN         \n",
       "...                                                 ...         \n",
       "2602                                          74.161607         \n",
       "2603                                          43.120518         \n",
       "2604                                          63.058320         \n",
       "2605                                         164.559047         \n",
       "2606                                                NaN         \n",
       "\n",
       "      Electric power consumption (kWh per capita)  \\\n",
       "0                                             NaN   \n",
       "1                                             NaN   \n",
       "2                                             NaN   \n",
       "3                                             NaN   \n",
       "4                                             NaN   \n",
       "...                                           ...   \n",
       "2602                                   878.072691   \n",
       "2603                                   778.695133   \n",
       "2604                                   870.988697   \n",
       "2605                                   827.329873   \n",
       "2606                                   700.642317   \n",
       "\n",
       "      Energy use (kg of oil equivalent per capita)  \\\n",
       "0                                              NaN   \n",
       "1                                              NaN   \n",
       "2                                              NaN   \n",
       "3                                              NaN   \n",
       "4                                              NaN   \n",
       "...                                            ...   \n",
       "2602                                    896.673611   \n",
       "2603                                    923.493407   \n",
       "2604                                    804.508892   \n",
       "2605                                    772.676619   \n",
       "2606                                    725.681049   \n",
       "\n",
       "      Exports of goods and services (% of GDP)  \\\n",
       "0                                     4.878051   \n",
       "1                                     6.772908   \n",
       "2                                    14.763231   \n",
       "3                                    11.662904   \n",
       "4                                          NaN   \n",
       "...                                        ...   \n",
       "2602                                 24.015710   \n",
       "2603                                 27.227263   \n",
       "2604                                 37.595273   \n",
       "2605                                 31.834799   \n",
       "2606                                 37.785373   \n",
       "\n",
       "      Fertility rate, total (births per woman)  GDP growth (annual %)  \\\n",
       "0                                        7.450                    NaN   \n",
       "1                                        7.450                    NaN   \n",
       "2                                        7.450                    NaN   \n",
       "3                                        7.449                    NaN   \n",
       "4                                        7.450                    NaN   \n",
       "...                                        ...                    ...   \n",
       "2602                                     5.784               1.150737   \n",
       "2603                                     4.840              -9.015570   \n",
       "2604                                     4.237               2.680594   \n",
       "2605                                     4.018              -8.894023   \n",
       "2606                                     4.022              -3.653327   \n",
       "\n",
       "      Imports of goods and services (% of GDP)  \\\n",
       "0                                     9.349593   \n",
       "1                                    14.209827   \n",
       "2                                    18.105850   \n",
       "3                                    14.823175   \n",
       "4                                          NaN   \n",
       "...                                        ...   \n",
       "2602                                 21.274886   \n",
       "2603                                 36.485231   \n",
       "2604                                 44.609791   \n",
       "2605                                 34.972553   \n",
       "2606                                 46.387531   \n",
       "\n",
       "      Industry, value added (% of GDP)  Inflation, GDP deflator (annual %)  \\\n",
       "0                                  NaN                                 NaN   \n",
       "1                                  NaN                                 NaN   \n",
       "2                                  NaN                                 NaN   \n",
       "3                                  NaN                                 NaN   \n",
       "4                                  NaN                                 NaN   \n",
       "...                                ...                                 ...   \n",
       "2602                         32.451242                            7.189361   \n",
       "2603                         40.862069                          -14.129659   \n",
       "2604                         25.554678                           -2.879048   \n",
       "2605                               NaN                            2.712950   \n",
       "2606                         33.074953                            0.894887   \n",
       "\n",
       "      Life expectancy at birth, total (years)  \\\n",
       "0                                   33.219902   \n",
       "1                                   35.389415   \n",
       "2                                   37.610146   \n",
       "3                                   40.110146   \n",
       "4                                   43.230732   \n",
       "...                                       ...   \n",
       "2602                                61.753805   \n",
       "2603                                56.491976   \n",
       "2604                                46.065902   \n",
       "2605                                40.679146   \n",
       "2606                                44.177756   \n",
       "\n",
       "      Population density (people per sq. km of land area)  \\\n",
       "0                                             14.312061     \n",
       "1                                             15.881812     \n",
       "2                                             17.947027     \n",
       "3                                             19.998926     \n",
       "4                                             19.402324     \n",
       "...                                                 ...     \n",
       "2602                                          24.649495     \n",
       "2603                                          28.485762     \n",
       "2604                                          31.174507     \n",
       "2605                                          32.807111     \n",
       "2606                                          34.374559     \n",
       "\n",
       "      Services, etc., value added (% of GDP)         pop continent   gdpPercap  \n",
       "0                                        NaN  10267083.0      Asia  853.100710  \n",
       "1                                        NaN  11537966.0      Asia  836.197138  \n",
       "2                                        NaN  13079460.0      Asia  739.981106  \n",
       "3                                        NaN  14880372.0      Asia  786.113360  \n",
       "4                                        NaN  12881816.0      Asia  978.011439  \n",
       "...                                      ...         ...       ...         ...  \n",
       "2602                               53.141236   9216418.0    Africa  706.157306  \n",
       "2603                               51.724135  10704340.0    Africa  693.420786  \n",
       "2604                               55.511236  11404948.0    Africa  792.449960  \n",
       "2605                                     NaN  11926563.0    Africa  672.038623  \n",
       "2606                               45.327139  12311143.0    Africa  469.709298  \n",
       "\n",
       "[2607 rows x 20 columns]"
      ]
     },
     "execution_count": 176,
     "metadata": {},
     "output_type": "execute_result"
    }
   ],
   "source": [
    "df = pd.read_csv ('gapminder_clean.csv')\n",
    "df"
   ]
  },
  {
   "attachments": {},
   "cell_type": "markdown",
   "metadata": {},
   "source": [
    "## 2. "
   ]
  },
  {
   "cell_type": "code",
   "execution_count": 177,
   "metadata": {},
   "outputs": [
    {
     "data": {
      "image/png": "[encoded data removed]",
      "text/plain": [
       "<Figure size 640x480 with 1 Axes>"
      ]
     },
     "metadata": {},
     "output_type": "display_data"
    }
   ],
   "source": [
    "## filter\n",
    "filtered_df = df[df['Year'] == 1962]\n",
    "filtered_df\n",
    "\n",
    "\n",
    "cogdp_df = filtered_df.loc[:, ['CO2 emissions (metric tons per capita)','gdpPercap']]\n",
    "# Drop rows with NaN values\n",
    "cogdp_df2 = cogdp_df.dropna()\n",
    "\n",
    "co2_emissions = cogdp_df2['CO2 emissions (metric tons per capita)']\n",
    "gdp_percap = cogdp_df2['gdpPercap']\n",
    "\n",
    "## create scatter plot\n",
    "\n",
    "plt.scatter(gdp_percap,co2_emissions)\n",
    "plt.xlabel('GDP per Capita')\n",
    "plt.ylabel('CO2 emissions (metric tons per capita)')\n",
    "plt.title('Scatter plot: CO2 Emissions vs. GDP per Capita (Year: 1962)')\n",
    "\n",
    "plt.show()\n"
   ]
  },
  {
   "attachments": {},
   "cell_type": "markdown",
   "metadata": {},
   "source": [
    "## 3.  \n",
    "\n",
    "* correlation coefficient : 0.9260816725019472, means the strength and direction of the linear relationship, it's strong positive correlation, seems linear\n",
    "\n",
    "* p-value:  1.1286792210038754e-46, which is < 0.05 means the correlation is statistically significant\n",
    "\n"
   ]
  },
  {
   "cell_type": "code",
   "execution_count": 178,
   "metadata": {},
   "outputs": [
    {
     "name": "stdout",
     "output_type": "stream",
     "text": [
      "Correlation: 0.9260816725019472\n",
      "P-value: 1.1286792210038754e-46\n"
     ]
    }
   ],
   "source": [
    "# Calculate the correlation coefficient and p-value\n",
    "correlation, p_value = pearsonr(co2_emissions, gdp_percap)\n",
    "\n",
    "# Display the correlation coefficient and p-value\n",
    "print(\"Correlation:\", correlation)\n",
    "print(\"P-value:\", p_value)\n"
   ]
  },
  {
   "attachments": {},
   "cell_type": "markdown",
   "metadata": {},
   "source": [
    "## 4. \n",
    "\n",
    "The year 1967 has strongest correlation 0.9387918385063311"
   ]
  },
  {
   "cell_type": "code",
   "execution_count": 179,
   "metadata": {},
   "outputs": [
    {
     "name": "stdout",
     "output_type": "stream",
     "text": [
      "The year 1967 has strongest correlation 0.9387918385063311\n"
     ]
    }
   ],
   "source": [
    "## 4. \n",
    "\n",
    "strongest_year = None\n",
    "strongest_cor = 0     # the initial correlation is set to the smallest abs value as coefficient\n",
    "\n",
    "lst=[]\n",
    "\n",
    "years = df['Year'].unique()\n",
    "\n",
    "for year in years:\n",
    "    filter = df[df['Year'] == year]\n",
    "    cogdp = filter.loc[:, ['CO2 emissions (metric tons per capita)','gdpPercap']]\n",
    "    cogdp2 = cogdp.dropna()\n",
    "    co2 = cogdp2['CO2 emissions (metric tons per capita)']\n",
    "    gdp = cogdp2['gdpPercap']\n",
    "\n",
    "    cor, p = pearsonr(co2, gdp)\n",
    "    lst.append(cor)\n",
    "\n",
    "    if abs(cor) > abs(strongest_cor):\n",
    "        strongest_cor = cor\n",
    "        strongest_year = year\n",
    "\n",
    "\n",
    "\n",
    "print(f'The year {strongest_year} has strongest correlation {strongest_cor}')\n",
    "    \n",
    "    "
   ]
  },
  {
   "attachments": {},
   "cell_type": "markdown",
   "metadata": {},
   "source": [
    "## 5. "
   ]
  },
  {
   "cell_type": "code",
   "execution_count": 180,
   "metadata": {},
   "outputs": [
    {
     "data": {
      "application/vnd.plotly.v1+json": {
       "config": {
        "plotlyServerURL": "https://plot.ly"
       },
       "data": [
        {
         "hovertemplate": "continent=Asia<br>GDP per Capita=%{x}<br>CO2 Emissions=%{y}<br>pop=%{marker.size}<extra></extra>",
         "legendgroup": "Asia",
         "marker": {
          "color": "#636efa",
          "size": [
           11537966,
           202182,
           62821884,
           6960067,
           754550000,
           506000000,
           109343000,
           8519282,
           2693585,
           100825279,
           1255058,
           575003,
           2186894,
           10154878,
           1149500,
           25870271,
           11261690,
           714775,
           60641899,
           35356600,
           5618198,
           1977600,
           11737396,
           34024249,
           39463910
          ],
          "sizemode": "area",
          "sizeref": 1886375,
          "symbol": "circle"
         },
         "mode": "markers",
         "name": "Asia",
         "orientation": "v",
         "showlegend": true,
         "type": "scatter",
         "x": [
          836.1971382,
          14804.6727,
          721.1860862000001,
          523.4323142,
          612.7056934,
          700.7706107000001,
          762.4317721,
          8931.459811,
          8393.741404,
          9847.788607,
          2741.796252,
          80894.88326,
          6006.983042,
          2277.742396,
          1226.04113,
          349,
          676.4422254,
          4720.942687,
          942.4082588,
          1814.12743,
          16903.04886,
          4977.41854,
          1135.514326,
          1295.46066,
          637.1232887
         ],
         "xaxis": "x",
         "y": [
          0.123782381421,
          5.12101242081,
          null,
          0.0624360387486,
          0.574162146975,
          0.331763432432,
          0.23191547809,
          2.05575631533,
          4.93341748634,
          4.86355784562,
          1.0719834839700002,
          43.4283027016,
          1.64225486815,
          null,
          1.83477215037,
          0.143519517019,
          0.0188098863912,
          0.205537806177,
          0.402522332305,
          0.555413076261,
          4.90876421118,
          1.54645934466,
          0.25192412202,
          0.360202673298,
          0.574906353177
         ],
         "yaxis": "y"
        },
        {
         "hovertemplate": "continent=Europe<br>GDP per Capita=%{x}<br>CO2 Emissions=%{y}<br>pop=%{marker.size}<extra></extra>",
         "legendgroup": "Europe",
         "marker": {
          "color": "#EF553B",
          "size": [
           1984060,
           7376998,
           9556500,
           3585000,
           8310226,
           4174366,
           9835109,
           4838800,
           4605744,
           49569000,
           76368453,
           8716441,
           10223422,
           198676,
           2900100,
           52667100,
           501035,
           12596822,
           3786019,
           31785378,
           9103000,
           19284814,
           7971222,
           4442238,
           1646912,
           32850275,
           7867931,
           6063000,
           33411317,
           54959000
          ],
          "sizemode": "area",
          "sizeref": 1886375,
          "symbol": "circle"
         },
         "mode": "markers",
         "name": "Europe",
         "orientation": "v",
         "showlegend": true,
         "type": "scatter",
         "x": [
          2760.196931,
          12834.6024,
          13149.04119,
          2172.3524230000003,
          5577.0028,
          6960.297861,
          11399.44489,
          15937.21123,
          10921.63626,
          12999.91766,
          14745.62561,
          8513.097016,
          9326.64467,
          13319.89568,
          7655.568963,
          10022.40131,
          5907.850937,
          15363.25136,
          16361.87647,
          6557.152776,
          6361.517993,
          6470.866545,
          7991.707066,
          8412.902397,
          9405.489397,
          7993.512294,
          15258.29697,
          22966.14432,
          2826.3563870000003,
          14142.85089
         ],
         "xaxis": "x",
         "y": [
          1.36374630011,
          5.41773672705,
          11.2172567535,
          null,
          6.63836916108,
          null,
          null,
          10.1493005476,
          6.21338658857,
          7.3064221599,
          null,
          2.24941398567,
          5.758242269149999,
          7.269387323839999,
          5.65504728764,
          4.43148255688,
          null,
          8.47605463669,
          5.1072949704,
          8.105834013680001,
          1.39828723131,
          4.71631855487,
          null,
          null,
          null,
          2.64722755876,
          8.770023402589999,
          5.43460087436,
          1.03313907211,
          10.7841045545
         ],
         "yaxis": "y"
        },
        {
         "hovertemplate": "continent=Africa<br>GDP per Capita=%{x}<br>CO2 Emissions=%{y}<br>pop=%{marker.size}<extra></extra>",
         "legendgroup": "Africa",
         "marker": {
          "color": "#00cc96",
          "size": [
           12760499,
           5247469,
           2427334,
           553541,
           5127935,
           3330989,
           6335506,
           1733638,
           3495967,
           217378,
           4744870,
           127617,
           259864,
           1820319,
           27860297,
           489004,
           8490213,
           3451418,
           601287,
           10191512,
           996380,
           1279406,
           1759224,
           6334556,
           4147252,
           5212416,
           1230542,
           789309,
           14770296,
           8680909,
           706640,
           4534062,
           47287752,
           3451079,
           70787,
           3965841,
           2662190,
           3428839,
           20997321,
           12716129,
           420690,
           12607312,
           1735550,
           4786986,
           8900294,
           3900000,
           4995432
          ],
          "sizemode": "area",
          "sizeref": 1886375,
          "symbol": "circle"
         },
         "mode": "markers",
         "name": "Africa",
         "orientation": "v",
         "showlegend": true,
         "type": "scatter",
         "x": [
          3246.991771,
          5522.776375,
          1035.831411,
          1214.709294,
          794.8265597,
          412.97751360000007,
          1508.453148,
          1136.056615,
          1196.810565,
          1876.029643,
          2052.050473,
          3020.050513,
          915.5960025,
          468.7949699,
          516.1186438,
          8358.761987,
          1125.69716,
          708.7595409,
          715.5806402000001,
          1056.736457,
          498.6390265,
          713.6036482999999,
          18772.75169,
          1634.047282,
          495.5147806,
          545.0098873,
          1421.145193,
          2475.387562,
          1711.04477,
          566.6691539,
          3793.694753,
          1054.384891,
          1014.514104,
          510.9637142,
          1384.840593,
          1612.404632,
          1206.043465,
          1284.7331800000002,
          7114.477970999999,
          1687.997641,
          2613.101665,
          848.2186575,
          1477.59676,
          1932.3601670000005,
          908.9185217,
          1777.077318,
          569.7950712
         ],
         "xaxis": "x",
         "y": [
          0.632118426889,
          0.166658588848,
          0.0523195961148,
          null,
          0.0192168474009,
          0.0147354429891,
          0.0729810151442,
          0.0533441408437,
          0.0341490827003,
          0.0856623590204,
          0.324270273072,
          0.669756398256,
          0.0908814105401,
          null,
          0.0408827807982,
          1.82744493336,
          0.185683744295,
          0.180529006335,
          0.0707397168393,
          0.266146233454,
          null,
          0.465652918101,
          9.94130993774,
          0.138895338975,
          0.086039155676,
          0.0392007077217,
          0.188179057955,
          0.6361795955439999,
          0.3615857767970001,
          0.216165510896,
          null,
          0.0318543481335,
          0.244682890582,
          0.0118002652184999,
          0.1620797359809999,
          0.181319271624,
          0.105440879922,
          0.0704483235701,
          6.46564779364,
          0.250771072594,
          0.55253014742,
          0.141879278158,
          0.10672264605,
          0.638870927594,
          0.0944460734361,
          1.2636279603,
          1.12296052314
         ],
         "yaxis": "y"
        },
        {
         "hovertemplate": "continent=Americas<br>GDP per Capita=%{x}<br>CO2 Emissions=%{y}<br>pop=%{marker.size}<extra></extra>",
         "legendgroup": "Americas",
         "marker": {
          "color": "#FFA15A",
          "size": [
           22934225,
           4040665,
           88049823,
           20819767,
           8858908,
           19764027,
           1588717,
           8139332,
           4049146,
           5432424,
           3232927,
           4690773,
           4318137,
           2500689,
           1861096,
           47995559,
           1865490,
           1405486,
           2287985,
           12132200,
           2648961,
           960155,
           198712000,
           2748579
          ],
          "sizemode": "area",
          "sizeref": 1886375,
          "symbol": "circle"
         },
         "mode": "markers",
         "name": "Americas",
         "orientation": "v",
         "showlegend": true,
         "type": "scatter",
         "x": [
          8052.953020999999,
          2586.886053,
          3429.864357,
          16076.58803,
          5106.654313,
          2678.729839,
          4161.727834,
          5690.268015,
          1653.7230029999998,
          4579.074215,
          4358.595393,
          3242.531147,
          1452.057666,
          2538.269358,
          6124.703450999999,
          5754.733883,
          4643.393534000001,
          4421.009084,
          2299.376311,
          5788.09333,
          6929.277714,
          5621.368472,
          19530.36557,
          5444.61962
         ],
         "xaxis": "x",
         "y": [
          2.85816254619,
          0.446569679542,
          0.744966530874,
          13.8103545953,
          2.1409901271900003,
          1.21683476874,
          0.517145991263,
          1.90593276713,
          0.380469161164,
          0.465781970972,
          0.342459705043,
          0.397317380131,
          0.0585660070754,
          0.352498584235,
          2.14463346178,
          1.8996986330400003,
          0.493983688604,
          1.21812383412,
          0.213013396786,
          1.1118562074299998,
          null,
          5.00989828473,
          18.5983178822,
          1.77610139003
         ],
         "yaxis": "y"
        },
        {
         "hovertemplate": "continent=Oceania<br>GDP per Capita=%{x}<br>CO2 Emissions=%{y}<br>pop=%{marker.size}<extra></extra>",
         "legendgroup": "Oceania",
         "marker": {
          "color": "#19d3f3",
          "size": [
           11872264,
           2728150
          ],
          "sizemode": "area",
          "sizeref": 1886375,
          "symbol": "circle"
         },
         "mode": "markers",
         "name": "Oceania",
         "orientation": "v",
         "showlegend": true,
         "type": "scatter",
         "x": [
          14526.12465,
          14463.918930000002
         ],
         "xaxis": "x",
         "y": [
          10.9556247987,
          5.00761352373
         ],
         "yaxis": "y"
        }
       ],
       "layout": {
        "legend": {
         "itemsizing": "constant",
         "title": {
          "text": "continent"
         },
         "tracegroupgap": 0
        },
        "showlegend": true,
        "template": {
         "data": {
          "bar": [
           {
            "error_x": {
             "color": "#2a3f5f"
            },
            "error_y": {
             "color": "#2a3f5f"
            },
            "marker": {
             "line": {
              "color": "#E5ECF6",
              "width": 0.5
             },
             "pattern": {
              "fillmode": "overlay",
              "size": 10,
              "solidity": 0.2
             }
            },
            "type": "bar"
           }
          ],
          "barpolar": [
           {
            "marker": {
             "line": {
              "color": "#E5ECF6",
              "width": 0.5
             },
             "pattern": {
              "fillmode": "overlay",
              "size": 10,
              "solidity": 0.2
             }
            },
            "type": "barpolar"
           }
          ],
          "carpet": [
           {
            "aaxis": {
             "endlinecolor": "#2a3f5f",
             "gridcolor": "white",
             "linecolor": "white",
             "minorgridcolor": "white",
             "startlinecolor": "#2a3f5f"
            },
            "baxis": {
             "endlinecolor": "#2a3f5f",
             "gridcolor": "white",
             "linecolor": "white",
             "minorgridcolor": "white",
             "startlinecolor": "#2a3f5f"
            },
            "type": "carpet"
           }
          ],
          "choropleth": [
           {
            "colorbar": {
             "outlinewidth": 0,
             "ticks": ""
            },
            "type": "choropleth"
           }
          ],
          "contour": [
           {
            "colorbar": {
             "outlinewidth": 0,
             "ticks": ""
            },
            "colorscale": [
             [
              0,
              "#0d0887"
             ],
             [
              0.1111111111111111,
              "#46039f"
             ],
             [
              0.2222222222222222,
              "#7201a8"
             ],
             [
              0.3333333333333333,
              "#9c179e"
             ],
             [
              0.4444444444444444,
              "#bd3786"
             ],
             [
              0.5555555555555556,
              "#d8576b"
             ],
             [
              0.6666666666666666,
              "#ed7953"
             ],
             [
              0.7777777777777778,
              "#fb9f3a"
             ],
             [
              0.8888888888888888,
              "#fdca26"
             ],
             [
              1,
              "#f0f921"
             ]
            ],
            "type": "contour"
           }
          ],
          "contourcarpet": [
           {
            "colorbar": {
             "outlinewidth": 0,
             "ticks": ""
            },
            "type": "contourcarpet"
           }
          ],
          "heatmap": [
           {
            "colorbar": {
             "outlinewidth": 0,
             "ticks": ""
            },
            "colorscale": [
             [
              0,
              "#0d0887"
             ],
             [
              0.1111111111111111,
              "#46039f"
             ],
             [
              0.2222222222222222,
              "#7201a8"
             ],
             [
              0.3333333333333333,
              "#9c179e"
             ],
             [
              0.4444444444444444,
              "#bd3786"
             ],
             [
              0.5555555555555556,
              "#d8576b"
             ],
             [
              0.6666666666666666,
              "#ed7953"
             ],
             [
              0.7777777777777778,
              "#fb9f3a"
             ],
             [
              0.8888888888888888,
              "#fdca26"
             ],
             [
              1,
              "#f0f921"
             ]
            ],
            "type": "heatmap"
           }
          ],
          "heatmapgl": [
           {
            "colorbar": {
             "outlinewidth": 0,
             "ticks": ""
            },
            "colorscale": [
             [
              0,
              "#0d0887"
             ],
             [
              0.1111111111111111,
              "#46039f"
             ],
             [
              0.2222222222222222,
              "#7201a8"
             ],
             [
              0.3333333333333333,
              "#9c179e"
             ],
             [
              0.4444444444444444,
              "#bd3786"
             ],
             [
              0.5555555555555556,
              "#d8576b"
             ],
             [
              0.6666666666666666,
              "#ed7953"
             ],
             [
              0.7777777777777778,
              "#fb9f3a"
             ],
             [
              0.8888888888888888,
              "#fdca26"
             ],
             [
              1,
              "#f0f921"
             ]
            ],
            "type": "heatmapgl"
           }
          ],
          "histogram": [
           {
            "marker": {
             "pattern": {
              "fillmode": "overlay",
              "size": 10,
              "solidity": 0.2
             }
            },
            "type": "histogram"
           }
          ],
          "histogram2d": [
           {
            "colorbar": {
             "outlinewidth": 0,
             "ticks": ""
            },
            "colorscale": [
             [
              0,
              "#0d0887"
             ],
             [
              0.1111111111111111,
              "#46039f"
             ],
             [
              0.2222222222222222,
              "#7201a8"
             ],
             [
              0.3333333333333333,
              "#9c179e"
             ],
             [
              0.4444444444444444,
              "#bd3786"
             ],
             [
              0.5555555555555556,
              "#d8576b"
             ],
             [
              0.6666666666666666,
              "#ed7953"
             ],
             [
              0.7777777777777778,
              "#fb9f3a"
             ],
             [
              0.8888888888888888,
              "#fdca26"
             ],
             [
              1,
              "#f0f921"
             ]
            ],
            "type": "histogram2d"
           }
          ],
          "histogram2dcontour": [
           {
            "colorbar": {
             "outlinewidth": 0,
             "ticks": ""
            },
            "colorscale": [
             [
              0,
              "#0d0887"
             ],
             [
              0.1111111111111111,
              "#46039f"
             ],
             [
              0.2222222222222222,
              "#7201a8"
             ],
             [
              0.3333333333333333,
              "#9c179e"
             ],
             [
              0.4444444444444444,
              "#bd3786"
             ],
             [
              0.5555555555555556,
              "#d8576b"
             ],
             [
              0.6666666666666666,
              "#ed7953"
             ],
             [
              0.7777777777777778,
              "#fb9f3a"
             ],
             [
              0.8888888888888888,
              "#fdca26"
             ],
             [
              1,
              "#f0f921"
             ]
            ],
            "type": "histogram2dcontour"
           }
          ],
          "mesh3d": [
           {
            "colorbar": {
             "outlinewidth": 0,
             "ticks": ""
            },
            "type": "mesh3d"
           }
          ],
          "parcoords": [
           {
            "line": {
             "colorbar": {
              "outlinewidth": 0,
              "ticks": ""
             }
            },
            "type": "parcoords"
           }
          ],
          "pie": [
           {
            "automargin": true,
            "type": "pie"
           }
          ],
          "scatter": [
           {
            "fillpattern": {
             "fillmode": "overlay",
             "size": 10,
             "solidity": 0.2
            },
            "type": "scatter"
           }
          ],
          "scatter3d": [
           {
            "line": {
             "colorbar": {
              "outlinewidth": 0,
              "ticks": ""
             }
            },
            "marker": {
             "colorbar": {
              "outlinewidth": 0,
              "ticks": ""
             }
            },
            "type": "scatter3d"
           }
          ],
          "scattercarpet": [
           {
            "marker": {
             "colorbar": {
              "outlinewidth": 0,
              "ticks": ""
             }
            },
            "type": "scattercarpet"
           }
          ],
          "scattergeo": [
           {
            "marker": {
             "colorbar": {
              "outlinewidth": 0,
              "ticks": ""
             }
            },
            "type": "scattergeo"
           }
          ],
          "scattergl": [
           {
            "marker": {
             "colorbar": {
              "outlinewidth": 0,
              "ticks": ""
             }
            },
            "type": "scattergl"
           }
          ],
          "scattermapbox": [
           {
            "marker": {
             "colorbar": {
              "outlinewidth": 0,
              "ticks": ""
             }
            },
            "type": "scattermapbox"
           }
          ],
          "scatterpolar": [
           {
            "marker": {
             "colorbar": {
              "outlinewidth": 0,
              "ticks": ""
             }
            },
            "type": "scatterpolar"
           }
          ],
          "scatterpolargl": [
           {
            "marker": {
             "colorbar": {
              "outlinewidth": 0,
              "ticks": ""
             }
            },
            "type": "scatterpolargl"
           }
          ],
          "scatterternary": [
           {
            "marker": {
             "colorbar": {
              "outlinewidth": 0,
              "ticks": ""
             }
            },
            "type": "scatterternary"
           }
          ],
          "surface": [
           {
            "colorbar": {
             "outlinewidth": 0,
             "ticks": ""
            },
            "colorscale": [
             [
              0,
              "#0d0887"
             ],
             [
              0.1111111111111111,
              "#46039f"
             ],
             [
              0.2222222222222222,
              "#7201a8"
             ],
             [
              0.3333333333333333,
              "#9c179e"
             ],
             [
              0.4444444444444444,
              "#bd3786"
             ],
             [
              0.5555555555555556,
              "#d8576b"
             ],
             [
              0.6666666666666666,
              "#ed7953"
             ],
             [
              0.7777777777777778,
              "#fb9f3a"
             ],
             [
              0.8888888888888888,
              "#fdca26"
             ],
             [
              1,
              "#f0f921"
             ]
            ],
            "type": "surface"
           }
          ],
          "table": [
           {
            "cells": {
             "fill": {
              "color": "#EBF0F8"
             },
             "line": {
              "color": "white"
             }
            },
            "header": {
             "fill": {
              "color": "#C8D4E3"
             },
             "line": {
              "color": "white"
             }
            },
            "type": "table"
           }
          ]
         },
         "layout": {
          "annotationdefaults": {
           "arrowcolor": "#2a3f5f",
           "arrowhead": 0,
           "arrowwidth": 1
          },
          "autotypenumbers": "strict",
          "coloraxis": {
           "colorbar": {
            "outlinewidth": 0,
            "ticks": ""
           }
          },
          "colorscale": {
           "diverging": [
            [
             0,
             "#8e0152"
            ],
            [
             0.1,
             "#c51b7d"
            ],
            [
             0.2,
             "#de77ae"
            ],
            [
             0.3,
             "#f1b6da"
            ],
            [
             0.4,
             "#fde0ef"
            ],
            [
             0.5,
             "#f7f7f7"
            ],
            [
             0.6,
             "#e6f5d0"
            ],
            [
             0.7,
             "#b8e186"
            ],
            [
             0.8,
             "#7fbc41"
            ],
            [
             0.9,
             "#4d9221"
            ],
            [
             1,
             "#276419"
            ]
           ],
           "sequential": [
            [
             0,
             "#0d0887"
            ],
            [
             0.1111111111111111,
             "#46039f"
            ],
            [
             0.2222222222222222,
             "#7201a8"
            ],
            [
             0.3333333333333333,
             "#9c179e"
            ],
            [
             0.4444444444444444,
             "#bd3786"
            ],
            [
             0.5555555555555556,
             "#d8576b"
            ],
            [
             0.6666666666666666,
             "#ed7953"
            ],
            [
             0.7777777777777778,
             "#fb9f3a"
            ],
            [
             0.8888888888888888,
             "#fdca26"
            ],
            [
             1,
             "#f0f921"
            ]
           ],
           "sequentialminus": [
            [
             0,
             "#0d0887"
            ],
            [
             0.1111111111111111,
             "#46039f"
            ],
            [
             0.2222222222222222,
             "#7201a8"
            ],
            [
             0.3333333333333333,
             "#9c179e"
            ],
            [
             0.4444444444444444,
             "#bd3786"
            ],
            [
             0.5555555555555556,
             "#d8576b"
            ],
            [
             0.6666666666666666,
             "#ed7953"
            ],
            [
             0.7777777777777778,
             "#fb9f3a"
            ],
            [
             0.8888888888888888,
             "#fdca26"
            ],
            [
             1,
             "#f0f921"
            ]
           ]
          },
          "colorway": [
           "#636efa",
           "#EF553B",
           "#00cc96",
           "#ab63fa",
           "#FFA15A",
           "#19d3f3",
           "#FF6692",
           "#B6E880",
           "#FF97FF",
           "#FECB52"
          ],
          "font": {
           "color": "#2a3f5f"
          },
          "geo": {
           "bgcolor": "white",
           "lakecolor": "white",
           "landcolor": "#E5ECF6",
           "showlakes": true,
           "showland": true,
           "subunitcolor": "white"
          },
          "hoverlabel": {
           "align": "left"
          },
          "hovermode": "closest",
          "mapbox": {
           "style": "light"
          },
          "paper_bgcolor": "white",
          "plot_bgcolor": "#E5ECF6",
          "polar": {
           "angularaxis": {
            "gridcolor": "white",
            "linecolor": "white",
            "ticks": ""
           },
           "bgcolor": "#E5ECF6",
           "radialaxis": {
            "gridcolor": "white",
            "linecolor": "white",
            "ticks": ""
           }
          },
          "scene": {
           "xaxis": {
            "backgroundcolor": "#E5ECF6",
            "gridcolor": "white",
            "gridwidth": 2,
            "linecolor": "white",
            "showbackground": true,
            "ticks": "",
            "zerolinecolor": "white"
           },
           "yaxis": {
            "backgroundcolor": "#E5ECF6",
            "gridcolor": "white",
            "gridwidth": 2,
            "linecolor": "white",
            "showbackground": true,
            "ticks": "",
            "zerolinecolor": "white"
           },
           "zaxis": {
            "backgroundcolor": "#E5ECF6",
            "gridcolor": "white",
            "gridwidth": 2,
            "linecolor": "white",
            "showbackground": true,
            "ticks": "",
            "zerolinecolor": "white"
           }
          },
          "shapedefaults": {
           "line": {
            "color": "#2a3f5f"
           }
          },
          "ternary": {
           "aaxis": {
            "gridcolor": "white",
            "linecolor": "white",
            "ticks": ""
           },
           "baxis": {
            "gridcolor": "white",
            "linecolor": "white",
            "ticks": ""
           },
           "bgcolor": "#E5ECF6",
           "caxis": {
            "gridcolor": "white",
            "linecolor": "white",
            "ticks": ""
           }
          },
          "title": {
           "x": 0.05
          },
          "xaxis": {
           "automargin": true,
           "gridcolor": "white",
           "linecolor": "white",
           "ticks": "",
           "title": {
            "standoff": 15
           },
           "zerolinecolor": "white",
           "zerolinewidth": 2
          },
          "yaxis": {
           "automargin": true,
           "gridcolor": "white",
           "linecolor": "white",
           "ticks": "",
           "title": {
            "standoff": 15
           },
           "zerolinecolor": "white",
           "zerolinewidth": 2
          }
         }
        },
        "title": {
         "text": "CO2 Emissions vs. GDP per Capita (Year: 1967) "
        },
        "xaxis": {
         "anchor": "y",
         "domain": [
          0,
          1
         ],
         "title": {
          "text": "GDP per Capita"
         }
        },
        "yaxis": {
         "anchor": "x",
         "domain": [
          0,
          1
         ],
         "title": {
          "text": "CO2 Emissions"
         }
        }
       }
      }
     },
     "metadata": {},
     "output_type": "display_data"
    }
   ],
   "source": [
    "filtered_df2 = df[df['Year'] == 1967]\n",
    "\n",
    "# Create an interactive scatter plot using Plotly\n",
    "fig = px.scatter(filtered_df2, x='gdpPercap', y='CO2 emissions (metric tons per capita)', \n",
    "                 size='pop', color='continent',\n",
    "                 title='CO2 Emissions vs. GDP per Capita (Year: 1967) ',\n",
    "                 labels={'gdpPercap': 'GDP per Capita', 'CO2 emissions (metric tons per capita)': 'CO2 Emissions'})\n",
    "\n",
    "# Customize the layout\n",
    "fig.update_layout(showlegend=True)\n",
    "\n",
    "# Show the plot\n",
    "fig.show()\n"
   ]
  },
  {
   "cell_type": "markdown",
   "metadata": {},
   "source": []
  },
  {
   "attachments": {},
   "cell_type": "markdown",
   "metadata": {},
   "source": [
    "# part 2"
   ]
  },
  {
   "attachments": {},
   "cell_type": "markdown",
   "metadata": {},
   "source": [
    "## 1.  \n",
    "\n",
    "* ANOVA: why?  \n",
    "one predictor variable is categorical-- continent, one outcome variable is quantitaive-- Energy use; more than 2 groups/continents are being compared  ;\n",
    "\n",
    "* p-value: 8.527003487154367e-39, the p-value is below a predetermined significance level (e.g., 0.05), which means there is significant evidence to reject the null hypothesis and conclude that there are differences in energy use across continents\n",
    "\n",
    "* box plot:  \n",
    "show there are differences in energy use across continents,  \n",
    "X-axis: >2 categories (many continents), y-axis: one continuous varable(Energy use)\n"
   ]
  },
  {
   "cell_type": "code",
   "execution_count": 181,
   "metadata": {},
   "outputs": [
    {
     "name": "stdout",
     "output_type": "stream",
     "text": [
      "ANOVA Result:\n",
      "p-value: 8.527003487154367e-39\n"
     ]
    }
   ],
   "source": [
    "## stats test\n",
    "\n",
    "df_1 = df.loc[:, ['continent','Energy use (kg of oil equivalent per capita)']].dropna() # remove row with Nan\n",
    "\n",
    "grouped_data = df_1.groupby('continent')['Energy use (kg of oil equivalent per capita)'].apply(list)\n",
    "grouped_data\n",
    "\n",
    "# Perform the ANOVA test\n",
    "result = f_oneway(*grouped_data)\n",
    "\n",
    "# Print the result\n",
    "print(\"ANOVA Result:\")\n",
    "print(\"p-value:\", result.pvalue)"
   ]
  },
  {
   "cell_type": "code",
   "execution_count": 182,
   "metadata": {},
   "outputs": [
    {
     "data": {
      "application/vnd.plotly.v1+json": {
       "config": {
        "plotlyServerURL": "https://plot.ly"
       },
       "data": [
        {
         "alignmentgroup": "True",
         "hovertemplate": "continent=%{x}<br>Energy use=%{y}<extra></extra>",
         "legendgroup": "Europe",
         "marker": {
          "color": "#636efa"
         },
         "name": "Europe",
         "notched": false,
         "offsetgroup": "Europe",
         "orientation": "v",
         "showlegend": true,
         "type": "box",
         "x": [
          "Europe",
          "Europe",
          "Europe",
          "Europe",
          "Europe",
          "Europe",
          "Europe",
          "Europe",
          "Europe",
          "Europe",
          "Europe",
          "Europe",
          "Europe",
          "Europe",
          "Europe",
          "Europe",
          "Europe",
          "Europe",
          "Europe",
          "Europe",
          "Europe",
          "Europe",
          "Europe",
          "Europe",
          "Europe",
          "Europe",
          "Europe",
          "Europe",
          "Europe",
          "Europe",
          "Europe",
          "Europe",
          "Europe",
          "Europe",
          "Europe",
          "Europe",
          "Europe",
          "Europe",
          "Europe",
          "Europe",
          "Europe",
          "Europe",
          "Europe",
          "Europe",
          "Europe",
          "Europe",
          "Europe",
          "Europe",
          "Europe",
          "Europe",
          "Europe",
          "Europe",
          "Europe",
          "Europe",
          "Europe",
          "Europe",
          "Europe",
          "Europe",
          "Europe",
          "Europe",
          "Europe",
          "Europe",
          "Europe",
          "Europe",
          "Europe",
          "Europe",
          "Europe",
          "Europe",
          "Europe",
          "Europe",
          "Europe",
          "Europe",
          "Europe",
          "Europe",
          "Europe",
          "Europe",
          "Europe",
          "Europe",
          "Europe",
          "Europe",
          "Europe",
          "Europe",
          "Europe",
          "Europe",
          "Europe",
          "Europe",
          "Europe",
          "Europe",
          "Europe",
          "Europe",
          "Europe",
          "Europe",
          "Europe",
          "Europe",
          "Europe",
          "Europe",
          "Europe",
          "Europe",
          "Europe",
          "Europe",
          "Europe",
          "Europe",
          "Europe",
          "Europe",
          "Europe",
          "Europe",
          "Europe",
          "Europe",
          "Europe",
          "Europe",
          "Europe",
          "Europe",
          "Europe",
          "Europe",
          "Europe",
          "Europe",
          "Europe",
          "Europe",
          "Europe",
          "Europe",
          "Europe",
          "Europe",
          "Europe",
          "Europe",
          "Europe",
          "Europe",
          "Europe",
          "Europe",
          "Europe",
          "Europe",
          "Europe",
          "Europe",
          "Europe",
          "Europe",
          "Europe",
          "Europe",
          "Europe",
          "Europe",
          "Europe",
          "Europe",
          "Europe",
          "Europe",
          "Europe",
          "Europe",
          "Europe",
          "Europe",
          "Europe",
          "Europe",
          "Europe",
          "Europe",
          "Europe",
          "Europe",
          "Europe",
          "Europe",
          "Europe",
          "Europe",
          "Europe",
          "Europe",
          "Europe",
          "Europe",
          "Europe",
          "Europe",
          "Europe",
          "Europe",
          "Europe",
          "Europe",
          "Europe",
          "Europe",
          "Europe",
          "Europe",
          "Europe",
          "Europe",
          "Europe",
          "Europe",
          "Europe",
          "Europe",
          "Europe",
          "Europe",
          "Europe",
          "Europe",
          "Europe",
          "Europe",
          "Europe",
          "Europe",
          "Europe",
          "Europe",
          "Europe",
          "Europe",
          "Europe",
          "Europe",
          "Europe",
          "Europe",
          "Europe",
          "Europe",
          "Europe",
          "Europe",
          "Europe",
          "Europe",
          "Europe",
          "Europe",
          "Europe",
          "Europe",
          "Europe",
          "Europe",
          "Europe",
          "Europe",
          "Europe",
          "Europe",
          "Europe",
          "Europe",
          "Europe",
          "Europe",
          "Europe",
          "Europe",
          "Europe",
          "Europe",
          "Europe",
          "Europe",
          "Europe",
          "Europe",
          "Europe",
          "Europe",
          "Europe",
          "Europe",
          "Europe",
          "Europe",
          "Europe",
          "Europe",
          "Europe",
          "Europe",
          "Europe",
          "Europe",
          "Europe",
          "Europe",
          "Europe",
          "Europe",
          "Europe",
          "Europe",
          "Europe",
          "Europe",
          "Europe",
          "Europe",
          "Europe",
          "Europe",
          "Europe",
          "Europe",
          "Europe",
          "Europe",
          "Europe",
          "Europe",
          "Europe",
          "Europe",
          "Europe",
          "Europe",
          "Europe",
          "Europe"
         ],
         "x0": " ",
         "xaxis": "x",
         "y": [
          865.592481207,
          923.728867504,
          966.683283781,
          921.893044018,
          418.286629757,
          384.594958328,
          645.080153785,
          679.861765101,
          1675.87362115,
          1920.21212423,
          2627.32249578,
          2797.42192238,
          2830.22178095,
          3174.74539203,
          3239.0639673,
          3542.5214303,
          3765.28296302,
          4029.62695258,
          2810.06114801,
          3182.9234575,
          4473.92951273,
          4589.52441,
          4208.25780214,
          4727.68639528,
          5092.96578511,
          5579.51075728,
          5461.40290348,
          5389.28164733,
          1034.34415156,
          712.9252777060001,
          1156.99672325,
          1381.12205494,
          2262.78654882,
          2954.26673889,
          3309.20642511,
          3411.07339479,
          2396.00726637,
          2504.12268042,
          2401.37660851,
          2666.11144524,
          1502.13713647,
          1704.81692913,
          1856.86891892,
          2102.14585212,
          4613.78059093,
          4716.46270083,
          4633.61136678,
          4978.254944899999,
          4222.41657552,
          4184.88468363,
          4163.45010589,
          4468.96035161,
          2296.28956262,
          3061.11010693,
          3858.59212164,
          3830.10381024,
          3422.37480485,
          3819.83212874,
          3561.89036948,
          3848.1558436,
          3535.09801372,
          3622.59683256,
          2361.74387608,
          3126.42604539,
          4188.16067653,
          4516.24806759,
          4805.49388193,
          5960.69258613,
          5380.99306782,
          6276.95169203,
          6705.43983596,
          6967.21323874,
          1852.7357712,
          2241.91139524,
          3160.80483651,
          3155.62146854,
          3272.05274478,
          3690.65145306,
          3954.00370317,
          4049.35046526,
          4225.60695353,
          4120.3058212,
          2124.84853926,
          2388.41234673,
          4017.33738516,
          4336.0874042,
          4257.86440736,
          4616.39706207,
          4190.98422047,
          4203.3573666,
          4108.40129887,
          3985.80810152,
          350.101257861,
          607.702155943,
          1134.78649348,
          1469.54942907,
          1537.27769706,
          1791.83338591,
          2129.89451644,
          2282.13703466,
          2597.74828926,
          2734.92011068,
          1476.04957577,
          1880.53879751,
          2428.82933004,
          2630.75848148,
          2894.82745315,
          2423.17944795,
          2527.30162599,
          2520.15246577,
          2658.03637311,
          3028.29836932,
          3594.36178937,
          4403.96964669,
          5602.87016623,
          7076.20798768,
          7857.45488268,
          7755.39441578,
          8584.10049866,
          10804.6417156,
          14746.0313385,
          1412.72967684,
          1767.42510638,
          2194.51306452,
          2203.82152215,
          2356.8942567,
          2608.80658136,
          2775.21800345,
          3255.49845122,
          3661.32224061,
          3416.03094562,
          1007.04834663,
          1551.51917279,
          2050.73787712,
          2204.17980667,
          2206.54273411,
          2407.25635314,
          2627.34000777,
          2834.40294607,
          3017.97165871,
          3062.36054739,
          1927.97889182,
          2081.01162075,
          2762.80248267,
          4381.04179488,
          4560.27311991,
          3785.11593558,
          4387.67068914,
          4501.66087489,
          4579.47478164,
          4687.98228043,
          4843.79608802,
          2052.05448433,
          2815.68798736,
          3503.4299482,
          4060.10627707,
          4262.39171068,
          5048.49930916,
          5159.65421807,
          5477.88285412,
          5503.46451061,
          5864.97593092,
          1976.85979181,
          2199.05462052,
          2693.74527501,
          3251.8025717,
          3412.49866376,
          3535.48197152,
          2569.17533457,
          2643.12353589,
          2314.20257992,
          2526.9949602,
          363.164047972,
          486.585415324,
          745.283954565,
          845.368945104,
          1119.20463053,
          1241.1956653,
          1813.8858461,
          2083.48767635,
          2477.48974988,
          2402.47799385,
          2131.63973572,
          2735.43911555,
          2876.73333115,
          3027.56521622,
          2052.96292702,
          1989.99418196,
          1755.13002556,
          1904.09688616,
          2020.15373461,
          2299.90425855,
          2119.78208028,
          2248.15503566,
          3224.51944058,
          3780.58944725,
          3754.67958194,
          4074.77904741,
          3410.7278847,
          3361.88402225,
          3483.86750611,
          3320.45472221,
          2584.33517088,
          3310.40063325,
          3424.45287862,
          3627.52350948,
          605.223527325,
          881.3832485789999,
          1299.43101563,
          1667.64601643,
          1762.40454547,
          1919.44664907,
          2435.96962149,
          2666.2640552,
          3107.86734112,
          3180.03341956,
          2887.23625249,
          3630.19413871,
          4527.21372025,
          5054.83376436,
          4877.79989653,
          5763.0704408,
          5369.37035674,
          5672.0081772,
          5802.11010517,
          5472.13539173,
          1568.91106002,
          2040.8279002,
          2727.71921732,
          2877.79290941,
          2984.22326318,
          3430.8555125,
          3613.49260926,
          3526.10543855,
          3553.18855698,
          3410.15494794,
          410.021796967,
          484.393315616,
          605.1364652890001,
          778.4328071839999,
          732.662049648,
          917.976137079,
          960.859171935,
          1165.81161631,
          1139.69490969,
          1438.53526923,
          3087.34197183,
          3345.55349486,
          3747.96247517,
          3695.38387114,
          3397.12228872,
          3619.07726922,
          3684.72453527,
          3760.71236505,
          3685.8654787,
          3441.68876583
         ],
         "y0": " ",
         "yaxis": "y"
        },
        {
         "alignmentgroup": "True",
         "hovertemplate": "continent=%{x}<br>Energy use=%{y}<extra></extra>",
         "legendgroup": "Africa",
         "marker": {
          "color": "#EF553B"
         },
         "name": "Africa",
         "notched": false,
         "offsetgroup": "Africa",
         "orientation": "v",
         "showlegend": true,
         "type": "box",
         "x": [
          "Africa",
          "Africa",
          "Africa",
          "Africa",
          "Africa",
          "Africa",
          "Africa",
          "Africa",
          "Africa",
          "Africa",
          "Africa",
          "Africa",
          "Africa",
          "Africa",
          "Africa",
          "Africa",
          "Africa",
          "Africa",
          "Africa",
          "Africa",
          "Africa",
          "Africa",
          "Africa",
          "Africa",
          "Africa",
          "Africa",
          "Africa",
          "Africa",
          "Africa",
          "Africa",
          "Africa",
          "Africa",
          "Africa",
          "Africa",
          "Africa",
          "Africa",
          "Africa",
          "Africa",
          "Africa",
          "Africa",
          "Africa",
          "Africa",
          "Africa",
          "Africa",
          "Africa",
          "Africa",
          "Africa",
          "Africa",
          "Africa",
          "Africa",
          "Africa",
          "Africa",
          "Africa",
          "Africa",
          "Africa",
          "Africa",
          "Africa",
          "Africa",
          "Africa",
          "Africa",
          "Africa",
          "Africa",
          "Africa",
          "Africa",
          "Africa",
          "Africa",
          "Africa",
          "Africa",
          "Africa",
          "Africa",
          "Africa",
          "Africa",
          "Africa",
          "Africa",
          "Africa",
          "Africa",
          "Africa",
          "Africa",
          "Africa",
          "Africa",
          "Africa",
          "Africa",
          "Africa",
          "Africa",
          "Africa",
          "Africa",
          "Africa",
          "Africa",
          "Africa",
          "Africa",
          "Africa",
          "Africa",
          "Africa",
          "Africa",
          "Africa",
          "Africa",
          "Africa",
          "Africa",
          "Africa",
          "Africa",
          "Africa",
          "Africa",
          "Africa",
          "Africa",
          "Africa",
          "Africa",
          "Africa",
          "Africa",
          "Africa",
          "Africa",
          "Africa",
          "Africa",
          "Africa",
          "Africa",
          "Africa",
          "Africa",
          "Africa",
          "Africa",
          "Africa",
          "Africa",
          "Africa",
          "Africa",
          "Africa",
          "Africa",
          "Africa",
          "Africa",
          "Africa",
          "Africa",
          "Africa",
          "Africa",
          "Africa",
          "Africa",
          "Africa",
          "Africa",
          "Africa",
          "Africa",
          "Africa",
          "Africa",
          "Africa",
          "Africa",
          "Africa",
          "Africa",
          "Africa",
          "Africa",
          "Africa",
          "Africa",
          "Africa",
          "Africa",
          "Africa",
          "Africa",
          "Africa",
          "Africa",
          "Africa",
          "Africa",
          "Africa",
          "Africa",
          "Africa",
          "Africa",
          "Africa",
          "Africa",
          "Africa",
          "Africa",
          "Africa",
          "Africa",
          "Africa",
          "Africa",
          "Africa",
          "Africa",
          "Africa",
          "Africa",
          "Africa",
          "Africa",
          "Africa",
          "Africa",
          "Africa",
          "Africa",
          "Africa",
          "Africa",
          "Africa",
          "Africa",
          "Africa",
          "Africa",
          "Africa",
          "Africa",
          "Africa",
          "Africa",
          "Africa",
          "Africa",
          "Africa",
          "Africa",
          "Africa",
          "Africa",
          "Africa",
          "Africa",
          "Africa",
          "Africa",
          "Africa",
          "Africa",
          "Africa"
         ],
         "x0": " ",
         "xaxis": "x",
         "y": [
          261.465250751,
          398.656113469,
          771.235497639,
          827.552506829,
          883.7458819,
          804.842705115,
          904.456391853,
          1075.19412704,
          629.301934363,
          535.2524622330001,
          514.415934309,
          502.598458911,
          511.237051724,
          494.174484207,
          515.4034564030001,
          561.5501055130001,
          380.812029086,
          363.746124276,
          355.338045025,
          347.306591796,
          321.349456122,
          350.78972053,
          305.04923703400004,
          368.216084341,
          739.29915268,
          743.685354401,
          979.087310581,
          900.173527778,
          1032.6780741,
          1028.07041536,
          386.14642293800006,
          402.624623832,
          423.360959463,
          417.73292245,
          397.277540786,
          396.727156517,
          389.52261441,
          332.30332161,
          63.1348128438,
          453.243100247,
          449.52124719,
          393.432418022,
          383.372484812,
          373.659519455,
          386.175169435,
          406.144021726,
          539.7271851830001,
          178.904528787,
          2641.94245101,
          277.580928028,
          319.16492977400003,
          197.54986892,
          162.700034655,
          434.793195834,
          432.458375494,
          434.058222854,
          437.234995296,
          431.15182408,
          435.145404589,
          439.254909387,
          442.86665148300006,
          1707.3062928,
          2000.90013642,
          2069.78785109,
          1470.39664628,
          1298.09635297,
          1236.01768782,
          1229.36459426,
          1281.68189093,
          348.93189080300004,
          381.515147025,
          376.7088969880001,
          363.852104774,
          366.522645114,
          398.339353834,
          317.525749335,
          278.760989471,
          62.1995597581,
          455.513600948,
          455.626061673,
          437.652286948,
          464.00933684,
          445.111805733,
          441.007660811,
          440.968733004,
          462.22025237800005,
          9.71541007212,
          952.733553333,
          1455.08414725,
          2397.98259634,
          2700.28315715,
          2452.19740381,
          2991.94395278,
          3071.77483233,
          2725.88792504,
          435.059790882,
          474.222876797,
          414.601806914,
          512.011597538,
          657.7868228880001,
          712.571976967,
          873.195801833,
          1007.57484088,
          190.387995598,
          252.036810104,
          268.259441677,
          277.485699249,
          327.952990834,
          362.27042057,
          402.312789339,
          487.448713086,
          699.0228986210001,
          608.405141326,
          523.782627433,
          474.548861116,
          420.272139083,
          390.685096382,
          395.127686774,
          407.278749651,
          496.518769708,
          594.756148267,
          579.8782172790001,
          659.366428344,
          130.047629217,
          128.026173022,
          583.794808164,
          634.258748201,
          689.4945390439999,
          674.47298453,
          719.308370017,
          696.8847876410001,
          721.312209806,
          747.1012487439999,
          274.890043982,
          280.837670795,
          281.840462003,
          260.719421235,
          254.211898654,
          222.634685966,
          221.005820684,
          253.315356135,
          252.409846662,
          1997.49821372,
          2208.54919916,
          2699.72841558,
          2831.14750181,
          2414.3981946,
          2655.26925959,
          2421.00577767,
          2805.48565552,
          485.018934669,
          445.524031505,
          431.003010124,
          397.42097884300006,
          386.72897561,
          392.294923579,
          411.137505242,
          366.495542,
          372.735499664,
          527.0538798619999,
          455.445767964,
          414.717967022,
          394.145177081,
          369.835021604,
          357.261154316,
          416.002267994,
          442.62215764,
          332.041867346,
          327.998948608,
          327.324375984,
          328.062332773,
          328.69853999,
          384.078207642,
          424.034097572,
          417.118049767,
          341.737804158,
          427.302747359,
          493.048630903,
          542.645168334,
          641.6905970619999,
          679.079751272,
          801.489193653,
          883.981281357,
          857.0932537580002,
          819.7872201060001,
          756.612333199,
          700.14084375,
          662.721536129,
          617.209365016,
          598.548219754,
          588.018958956,
          994.184786353,
          921.65469562,
          842.372683813,
          896.673611477,
          923.493407317,
          804.5088922269998,
          772.6766193660001,
          725.6810488469998
         ],
         "y0": " ",
         "yaxis": "y"
        },
        {
         "alignmentgroup": "True",
         "hovertemplate": "continent=%{x}<br>Energy use=%{y}<extra></extra>",
         "legendgroup": "Americas",
         "marker": {
          "color": "#00cc96"
         },
         "name": "Americas",
         "notched": false,
         "offsetgroup": "Americas",
         "orientation": "v",
         "showlegend": true,
         "type": "box",
         "x": [
          "Americas",
          "Americas",
          "Americas",
          "Americas",
          "Americas",
          "Americas",
          "Americas",
          "Americas",
          "Americas",
          "Americas",
          "Americas",
          "Americas",
          "Americas",
          "Americas",
          "Americas",
          "Americas",
          "Americas",
          "Americas",
          "Americas",
          "Americas",
          "Americas",
          "Americas",
          "Americas",
          "Americas",
          "Americas",
          "Americas",
          "Americas",
          "Americas",
          "Americas",
          "Americas",
          "Americas",
          "Americas",
          "Americas",
          "Americas",
          "Americas",
          "Americas",
          "Americas",
          "Americas",
          "Americas",
          "Americas",
          "Americas",
          "Americas",
          "Americas",
          "Americas",
          "Americas",
          "Americas",
          "Americas",
          "Americas",
          "Americas",
          "Americas",
          "Americas",
          "Americas",
          "Americas",
          "Americas",
          "Americas",
          "Americas",
          "Americas",
          "Americas",
          "Americas",
          "Americas",
          "Americas",
          "Americas",
          "Americas",
          "Americas",
          "Americas",
          "Americas",
          "Americas",
          "Americas",
          "Americas",
          "Americas",
          "Americas",
          "Americas",
          "Americas",
          "Americas",
          "Americas",
          "Americas",
          "Americas",
          "Americas",
          "Americas",
          "Americas",
          "Americas",
          "Americas",
          "Americas",
          "Americas",
          "Americas",
          "Americas",
          "Americas",
          "Americas",
          "Americas",
          "Americas",
          "Americas",
          "Americas",
          "Americas",
          "Americas",
          "Americas",
          "Americas",
          "Americas",
          "Americas",
          "Americas",
          "Americas",
          "Americas",
          "Americas",
          "Americas",
          "Americas",
          "Americas",
          "Americas",
          "Americas",
          "Americas",
          "Americas",
          "Americas",
          "Americas",
          "Americas",
          "Americas",
          "Americas",
          "Americas",
          "Americas",
          "Americas",
          "Americas",
          "Americas",
          "Americas",
          "Americas",
          "Americas",
          "Americas",
          "Americas",
          "Americas",
          "Americas",
          "Americas",
          "Americas",
          "Americas",
          "Americas",
          "Americas",
          "Americas",
          "Americas",
          "Americas",
          "Americas",
          "Americas",
          "Americas",
          "Americas",
          "Americas",
          "Americas",
          "Americas",
          "Americas",
          "Americas",
          "Americas",
          "Americas",
          "Americas",
          "Americas",
          "Americas",
          "Americas",
          "Americas",
          "Americas",
          "Americas",
          "Americas",
          "Americas",
          "Americas",
          "Americas",
          "Americas",
          "Americas",
          "Americas",
          "Americas",
          "Americas",
          "Americas",
          "Americas",
          "Americas",
          "Americas",
          "Americas",
          "Americas",
          "Americas",
          "Americas",
          "Americas",
          "Americas",
          "Americas",
          "Americas",
          "Americas",
          "Americas",
          "Americas",
          "Americas",
          "Americas",
          "Americas",
          "Americas",
          "Americas",
          "Americas",
          "Americas",
          "Americas",
          "Americas",
          "Americas",
          "Americas",
          "Americas"
         ],
         "x0": " ",
         "xaxis": "x",
         "y": [
          1379.81886741,
          1420.56765898,
          1416.53992488,
          1477.07652885,
          1484.0589177000004,
          1614.33824027,
          1502.22488095,
          1846.93675639,
          240.157170254,
          331.439253894,
          462.43170312,
          341.493450003,
          399.828007323,
          561.077061465,
          528.760849998,
          561.052703379,
          741.6918705969998,
          868.475086329,
          867.193602187,
          987.562557183,
          929.003678998,
          1061.83829204,
          1081.26747985,
          1221.36231051,
          4451.56011604,
          5557.29174015,
          6933.60655182,
          7409.53000504,
          7149.344059999999,
          7641.32410546,
          7479.477427399999,
          7965.51932158,
          7920.11022894,
          8130.58019344,
          891.2738674039999,
          779.391621026,
          763.201224638,
          826.260796732,
          1141.81007039,
          1558.78524634,
          1644.79154564,
          1860.10017433,
          598.975288294,
          638.025434659,
          635.432893568,
          696.0663928460001,
          704.354798517,
          709.8217022360001,
          606.266720641,
          637.510761494,
          442.444664949,
          528.165846592,
          455.822967416,
          491.495062694,
          705.487675532,
          647.0037811669999,
          748.21348058,
          1031.80869969,
          1154.55654156,
          1424.73743541,
          1536.90510757,
          1578.25907104,
          1214.11700599,
          1125.97333686,
          1053.28051042,
          904.662628457,
          573.372745636,
          601.951784846,
          596.93367919,
          594.381238984,
          603.781376066,
          749.844735219,
          819.797049144,
          763.408932512,
          360.600661999,
          568.073705272,
          666.635807378,
          602.470062495,
          629.220777401,
          721.687588695,
          739.4547575380002,
          833.203582927,
          484.967888203,
          622.1297874219999,
          595.2355137530001,
          503.481769676,
          525.453706523,
          624.096762293,
          720.3532811819998,
          748.1199930380002,
          491.473442413,
          574.359356263,
          482.712477796,
          448.694681999,
          497.344297754,
          526.326033275,
          590.478746775,
          616.892076168,
          317.810225983,
          350.433910995,
          301.847692756,
          226.326971354,
          219.075496949,
          252.463093356,
          261.374331488,
          384.513775199,
          499.277043223,
          512.605428263,
          520.393217065,
          481.319956646,
          483.335543947,
          528.901564325,
          516.4041365740001,
          657.398639731,
          1331.9860874,
          1153.48652689,
          1040.31180401,
          765.4628605460001,
          1215.0555252,
          1333.59707253,
          1371.65658542,
          1578.42891649,
          856.81120942,
          1063.78037111,
          1465.05024708,
          1379.33314201,
          1452.97190576,
          1398.88398183,
          1412.86939872,
          1551.28978352,
          487.96346663800006,
          585.0413863719999,
          469.268615848,
          502.383245685,
          509.839947747,
          503.04461939,
          508.740585366,
          521.961949752,
          1159.6892715999998,
          899.7691370580002,
          796.469906347,
          730.8000538289999,
          715.38365957,
          777.742373207,
          834.670915895,
          879.523836391,
          540.588375968,
          580.530937274,
          630.648885594,
          699.102776962,
          712.691343364,
          877.0448880460001,
          705.433761481,
          708.7828687130002,
          648.807999388,
          678.509067152,
          632.7254874390001,
          540.974320389,
          408.43313224,
          440.557973649,
          446.340827194,
          506.633143848,
          2772.88276961,
          2808.51679767,
          3648.18714807,
          4188.6453215,
          5286.28687516,
          5437.91312128,
          9356.78097414,
          14608.0098682,
          5774.58631485,
          6809.82048392,
          7940.99783226,
          8285.57089798,
          7259.07889875,
          7622.17301652,
          7677.40140109,
          7828.5810964,
          7843.34484914,
          7758.16570028,
          872.986354117,
          868.792103341,
          766.1430987780002,
          718.448623294,
          855.1247871139999,
          880.633650605,
          762.6981432010001,
          947.838610674
         ],
         "y0": " ",
         "yaxis": "y"
        },
        {
         "alignmentgroup": "True",
         "hovertemplate": "continent=%{x}<br>Energy use=%{y}<extra></extra>",
         "legendgroup": "Oceania",
         "marker": {
          "color": "#ab63fa"
         },
         "name": "Oceania",
         "notched": false,
         "offsetgroup": "Oceania",
         "orientation": "v",
         "showlegend": true,
         "type": "box",
         "x": [
          "Oceania",
          "Oceania",
          "Oceania",
          "Oceania",
          "Oceania",
          "Oceania",
          "Oceania",
          "Oceania",
          "Oceania",
          "Oceania",
          "Oceania",
          "Oceania",
          "Oceania",
          "Oceania",
          "Oceania",
          "Oceania",
          "Oceania",
          "Oceania",
          "Oceania",
          "Oceania"
         ],
         "x0": " ",
         "xaxis": "x",
         "y": [
          3172.97486502,
          3692.80794983,
          4035.20634439,
          4671.19567362,
          4817.48952431,
          4772.37046465,
          4959.21491855,
          5469.5999892,
          5569.6409925,
          5868.34709712,
          1791.46132151,
          2188.69351345,
          2617.16105927,
          3055.08108455,
          3012.97138874,
          3452.96268019,
          3808.4772206,
          4258.75677677,
          4337.38052425,
          4054.4950045
         ],
         "y0": " ",
         "yaxis": "y"
        },
        {
         "alignmentgroup": "True",
         "hovertemplate": "continent=%{x}<br>Energy use=%{y}<extra></extra>",
         "legendgroup": "Asia",
         "marker": {
          "color": "#FFA15A"
         },
         "name": "Asia",
         "notched": false,
         "offsetgroup": "Asia",
         "orientation": "v",
         "showlegend": true,
         "type": "box",
         "x": [
          "Asia",
          "Asia",
          "Asia",
          "Asia",
          "Asia",
          "Asia",
          "Asia",
          "Asia",
          "Asia",
          "Asia",
          "Asia",
          "Asia",
          "Asia",
          "Asia",
          "Asia",
          "Asia",
          "Asia",
          "Asia",
          "Asia",
          "Asia",
          "Asia",
          "Asia",
          "Asia",
          "Asia",
          "Asia",
          "Asia",
          "Asia",
          "Asia",
          "Asia",
          "Asia",
          "Asia",
          "Asia",
          "Asia",
          "Asia",
          "Asia",
          "Asia",
          "Asia",
          "Asia",
          "Asia",
          "Asia",
          "Asia",
          "Asia",
          "Asia",
          "Asia",
          "Asia",
          "Asia",
          "Asia",
          "Asia",
          "Asia",
          "Asia",
          "Asia",
          "Asia",
          "Asia",
          "Asia",
          "Asia",
          "Asia",
          "Asia",
          "Asia",
          "Asia",
          "Asia",
          "Asia",
          "Asia",
          "Asia",
          "Asia",
          "Asia",
          "Asia",
          "Asia",
          "Asia",
          "Asia",
          "Asia",
          "Asia",
          "Asia",
          "Asia",
          "Asia",
          "Asia",
          "Asia",
          "Asia",
          "Asia",
          "Asia",
          "Asia",
          "Asia",
          "Asia",
          "Asia",
          "Asia",
          "Asia",
          "Asia",
          "Asia",
          "Asia",
          "Asia",
          "Asia",
          "Asia",
          "Asia",
          "Asia",
          "Asia",
          "Asia",
          "Asia",
          "Asia",
          "Asia",
          "Asia",
          "Asia",
          "Asia",
          "Asia",
          "Asia",
          "Asia",
          "Asia",
          "Asia",
          "Asia",
          "Asia",
          "Asia",
          "Asia",
          "Asia",
          "Asia",
          "Asia",
          "Asia",
          "Asia",
          "Asia",
          "Asia",
          "Asia",
          "Asia",
          "Asia",
          "Asia",
          "Asia",
          "Asia",
          "Asia",
          "Asia",
          "Asia",
          "Asia",
          "Asia",
          "Asia",
          "Asia",
          "Asia",
          "Asia",
          "Asia",
          "Asia",
          "Asia",
          "Asia",
          "Asia",
          "Asia",
          "Asia",
          "Asia",
          "Asia",
          "Asia",
          "Asia",
          "Asia",
          "Asia",
          "Asia",
          "Asia",
          "Asia",
          "Asia",
          "Asia",
          "Asia",
          "Asia",
          "Asia",
          "Asia",
          "Asia",
          "Asia",
          "Asia",
          "Asia",
          "Asia",
          "Asia",
          "Asia",
          "Asia",
          "Asia",
          "Asia",
          "Asia",
          "Asia",
          "Asia",
          "Asia",
          "Asia",
          "Asia",
          "Asia",
          "Asia",
          "Asia",
          "Asia",
          "Asia",
          "Asia",
          "Asia",
          "Asia",
          "Asia",
          "Asia",
          "Asia",
          "Asia",
          "Asia",
          "Asia",
          "Asia"
         ],
         "x0": " ",
         "xaxis": "x",
         "y": [
          5960.21133509,
          8187.11498635,
          9071.02474414,
          9523.46356521,
          10844.7550254,
          12122.0506027,
          11704.3047293,
          11291.126355,
          86.903766977,
          97.860763105,
          105.482961637,
          106.866835127,
          119.405481659,
          135.210016124,
          149.933182829,
          173.580998621,
          265.896639422,
          314.97027594400004,
          253.343288148,
          477.168708746,
          577.211010594,
          606.830437326,
          694.4223599789999,
          752.628662541,
          871.6462695360001,
          978.61898313,
          1550.53027085,
          268.485083335,
          283.275393642,
          299.592677132,
          325.73809089400004,
          365.379491444,
          399.052528907,
          423.580114419,
          486.292374786,
          301.357990782,
          347.868204367,
          388.834624998,
          436.663234979,
          574.344890279,
          690.7954914339999,
          760.140852043,
          788.5836582439999,
          405.152489951,
          626.354937731,
          690.323799679,
          958.189471661,
          1311.18896852,
          1861.7960965,
          1130.94271589,
          892.39580238,
          1756.33100381,
          1786.48768337,
          1958.31704292,
          2278.47928588,
          2580.96935389,
          2881.12834133,
          2862.7957382,
          2898.15336834,
          1003.75225394,
          1720.54974435,
          2667.04674964,
          2899.90421823,
          2840.60843908,
          3044.11508629,
          3652.07124745,
          4048.98200021,
          4005.94409353,
          4024.99795314,
          297.830418297,
          473.5437315580001,
          875.54040491,
          998.355658577,
          1015.41769856,
          991.96787502,
          1024.4838209,
          1251.68193903,
          7802.76597438,
          6429.99850119,
          7548.12934744,
          8616.57655309,
          8764.51262442,
          10105.8321479,
          10395.1176066,
          789.565543378,
          696.1964896339999,
          678.5814280469999,
          996.943321974,
          868.56933067,
          1698.3102702999995,
          1484.22892653,
          1034.92218437,
          536.095210505,
          621.740086559,
          898.6549052380002,
          1078.98626036,
          1566.72481216,
          2063.52696529,
          2183.8734214,
          2742.50027319,
          1746.24080026,
          1488.63742731,
          951.851569598,
          1058.16485595,
          1376.98860218,
          281.931848431,
          276.246179043,
          270.238811656,
          269.30095308,
          251.060745819,
          263.20255292,
          266.385844866,
          307.913041122,
          300.972670494,
          302.06554296,
          305.746943514,
          307.065111322,
          309.74507691900004,
          316.822270368,
          345.37079196,
          357.131793555,
          112.054808283,
          761.662333837,
          1151.87126892,
          1412.3831509,
          2756.42578415,
          3027.90856152,
          3890.79215204,
          6881.62081928,
          285.16407106400004,
          302.558312012,
          336.92280827900004,
          376.344243754,
          412.405215402,
          448.925191849,
          455.934635667,
          523.2672101530001,
          406.49229803800006,
          456.743021869,
          461.890994003,
          433.357672285,
          460.545976337,
          500.989771655,
          477.457211125,
          434.402352876,
          979.423249943,
          1368.95037047,
          4215.42559694,
          3750.91313869,
          4421.45445335,
          4354.65523263,
          4907.82867485,
          5379.69097885,
          1569.47082327,
          1763.23012084,
          1987.08730813,
          2757.88068931,
          4588.43321165,
          5818.15092473,
          5065.98450652,
          4677.20430572,
          314.546613794,
          293.833883231,
          324.13036566,
          328.090886835,
          327.882389865,
          380.086721607,
          432.84856645,
          470.83709579,
          367.864327681,
          451.510578157,
          456.467867425,
          531.762695185,
          840.141111806,
          1164.94784692,
          1282.58023503,
          1585.96595222,
          298.157558425,
          257.872313351,
          271.162299998,
          286.657214575,
          276.1308749,
          335.170556166,
          420.446832131,
          540.08195349
         ],
         "y0": " ",
         "yaxis": "y"
        }
       ],
       "layout": {
        "boxmode": "overlay",
        "legend": {
         "title": {
          "text": "continent"
         },
         "tracegroupgap": 0
        },
        "template": {
         "data": {
          "bar": [
           {
            "error_x": {
             "color": "#2a3f5f"
            },
            "error_y": {
             "color": "#2a3f5f"
            },
            "marker": {
             "line": {
              "color": "#E5ECF6",
              "width": 0.5
             },
             "pattern": {
              "fillmode": "overlay",
              "size": 10,
              "solidity": 0.2
             }
            },
            "type": "bar"
           }
          ],
          "barpolar": [
           {
            "marker": {
             "line": {
              "color": "#E5ECF6",
              "width": 0.5
             },
             "pattern": {
              "fillmode": "overlay",
              "size": 10,
              "solidity": 0.2
             }
            },
            "type": "barpolar"
           }
          ],
          "carpet": [
           {
            "aaxis": {
             "endlinecolor": "#2a3f5f",
             "gridcolor": "white",
             "linecolor": "white",
             "minorgridcolor": "white",
             "startlinecolor": "#2a3f5f"
            },
            "baxis": {
             "endlinecolor": "#2a3f5f",
             "gridcolor": "white",
             "linecolor": "white",
             "minorgridcolor": "white",
             "startlinecolor": "#2a3f5f"
            },
            "type": "carpet"
           }
          ],
          "choropleth": [
           {
            "colorbar": {
             "outlinewidth": 0,
             "ticks": ""
            },
            "type": "choropleth"
           }
          ],
          "contour": [
           {
            "colorbar": {
             "outlinewidth": 0,
             "ticks": ""
            },
            "colorscale": [
             [
              0,
              "#0d0887"
             ],
             [
              0.1111111111111111,
              "#46039f"
             ],
             [
              0.2222222222222222,
              "#7201a8"
             ],
             [
              0.3333333333333333,
              "#9c179e"
             ],
             [
              0.4444444444444444,
              "#bd3786"
             ],
             [
              0.5555555555555556,
              "#d8576b"
             ],
             [
              0.6666666666666666,
              "#ed7953"
             ],
             [
              0.7777777777777778,
              "#fb9f3a"
             ],
             [
              0.8888888888888888,
              "#fdca26"
             ],
             [
              1,
              "#f0f921"
             ]
            ],
            "type": "contour"
           }
          ],
          "contourcarpet": [
           {
            "colorbar": {
             "outlinewidth": 0,
             "ticks": ""
            },
            "type": "contourcarpet"
           }
          ],
          "heatmap": [
           {
            "colorbar": {
             "outlinewidth": 0,
             "ticks": ""
            },
            "colorscale": [
             [
              0,
              "#0d0887"
             ],
             [
              0.1111111111111111,
              "#46039f"
             ],
             [
              0.2222222222222222,
              "#7201a8"
             ],
             [
              0.3333333333333333,
              "#9c179e"
             ],
             [
              0.4444444444444444,
              "#bd3786"
             ],
             [
              0.5555555555555556,
              "#d8576b"
             ],
             [
              0.6666666666666666,
              "#ed7953"
             ],
             [
              0.7777777777777778,
              "#fb9f3a"
             ],
             [
              0.8888888888888888,
              "#fdca26"
             ],
             [
              1,
              "#f0f921"
             ]
            ],
            "type": "heatmap"
           }
          ],
          "heatmapgl": [
           {
            "colorbar": {
             "outlinewidth": 0,
             "ticks": ""
            },
            "colorscale": [
             [
              0,
              "#0d0887"
             ],
             [
              0.1111111111111111,
              "#46039f"
             ],
             [
              0.2222222222222222,
              "#7201a8"
             ],
             [
              0.3333333333333333,
              "#9c179e"
             ],
             [
              0.4444444444444444,
              "#bd3786"
             ],
             [
              0.5555555555555556,
              "#d8576b"
             ],
             [
              0.6666666666666666,
              "#ed7953"
             ],
             [
              0.7777777777777778,
              "#fb9f3a"
             ],
             [
              0.8888888888888888,
              "#fdca26"
             ],
             [
              1,
              "#f0f921"
             ]
            ],
            "type": "heatmapgl"
           }
          ],
          "histogram": [
           {
            "marker": {
             "pattern": {
              "fillmode": "overlay",
              "size": 10,
              "solidity": 0.2
             }
            },
            "type": "histogram"
           }
          ],
          "histogram2d": [
           {
            "colorbar": {
             "outlinewidth": 0,
             "ticks": ""
            },
            "colorscale": [
             [
              0,
              "#0d0887"
             ],
             [
              0.1111111111111111,
              "#46039f"
             ],
             [
              0.2222222222222222,
              "#7201a8"
             ],
             [
              0.3333333333333333,
              "#9c179e"
             ],
             [
              0.4444444444444444,
              "#bd3786"
             ],
             [
              0.5555555555555556,
              "#d8576b"
             ],
             [
              0.6666666666666666,
              "#ed7953"
             ],
             [
              0.7777777777777778,
              "#fb9f3a"
             ],
             [
              0.8888888888888888,
              "#fdca26"
             ],
             [
              1,
              "#f0f921"
             ]
            ],
            "type": "histogram2d"
           }
          ],
          "histogram2dcontour": [
           {
            "colorbar": {
             "outlinewidth": 0,
             "ticks": ""
            },
            "colorscale": [
             [
              0,
              "#0d0887"
             ],
             [
              0.1111111111111111,
              "#46039f"
             ],
             [
              0.2222222222222222,
              "#7201a8"
             ],
             [
              0.3333333333333333,
              "#9c179e"
             ],
             [
              0.4444444444444444,
              "#bd3786"
             ],
             [
              0.5555555555555556,
              "#d8576b"
             ],
             [
              0.6666666666666666,
              "#ed7953"
             ],
             [
              0.7777777777777778,
              "#fb9f3a"
             ],
             [
              0.8888888888888888,
              "#fdca26"
             ],
             [
              1,
              "#f0f921"
             ]
            ],
            "type": "histogram2dcontour"
           }
          ],
          "mesh3d": [
           {
            "colorbar": {
             "outlinewidth": 0,
             "ticks": ""
            },
            "type": "mesh3d"
           }
          ],
          "parcoords": [
           {
            "line": {
             "colorbar": {
              "outlinewidth": 0,
              "ticks": ""
             }
            },
            "type": "parcoords"
           }
          ],
          "pie": [
           {
            "automargin": true,
            "type": "pie"
           }
          ],
          "scatter": [
           {
            "fillpattern": {
             "fillmode": "overlay",
             "size": 10,
             "solidity": 0.2
            },
            "type": "scatter"
           }
          ],
          "scatter3d": [
           {
            "line": {
             "colorbar": {
              "outlinewidth": 0,
              "ticks": ""
             }
            },
            "marker": {
             "colorbar": {
              "outlinewidth": 0,
              "ticks": ""
             }
            },
            "type": "scatter3d"
           }
          ],
          "scattercarpet": [
           {
            "marker": {
             "colorbar": {
              "outlinewidth": 0,
              "ticks": ""
             }
            },
            "type": "scattercarpet"
           }
          ],
          "scattergeo": [
           {
            "marker": {
             "colorbar": {
              "outlinewidth": 0,
              "ticks": ""
             }
            },
            "type": "scattergeo"
           }
          ],
          "scattergl": [
           {
            "marker": {
             "colorbar": {
              "outlinewidth": 0,
              "ticks": ""
             }
            },
            "type": "scattergl"
           }
          ],
          "scattermapbox": [
           {
            "marker": {
             "colorbar": {
              "outlinewidth": 0,
              "ticks": ""
             }
            },
            "type": "scattermapbox"
           }
          ],
          "scatterpolar": [
           {
            "marker": {
             "colorbar": {
              "outlinewidth": 0,
              "ticks": ""
             }
            },
            "type": "scatterpolar"
           }
          ],
          "scatterpolargl": [
           {
            "marker": {
             "colorbar": {
              "outlinewidth": 0,
              "ticks": ""
             }
            },
            "type": "scatterpolargl"
           }
          ],
          "scatterternary": [
           {
            "marker": {
             "colorbar": {
              "outlinewidth": 0,
              "ticks": ""
             }
            },
            "type": "scatterternary"
           }
          ],
          "surface": [
           {
            "colorbar": {
             "outlinewidth": 0,
             "ticks": ""
            },
            "colorscale": [
             [
              0,
              "#0d0887"
             ],
             [
              0.1111111111111111,
              "#46039f"
             ],
             [
              0.2222222222222222,
              "#7201a8"
             ],
             [
              0.3333333333333333,
              "#9c179e"
             ],
             [
              0.4444444444444444,
              "#bd3786"
             ],
             [
              0.5555555555555556,
              "#d8576b"
             ],
             [
              0.6666666666666666,
              "#ed7953"
             ],
             [
              0.7777777777777778,
              "#fb9f3a"
             ],
             [
              0.8888888888888888,
              "#fdca26"
             ],
             [
              1,
              "#f0f921"
             ]
            ],
            "type": "surface"
           }
          ],
          "table": [
           {
            "cells": {
             "fill": {
              "color": "#EBF0F8"
             },
             "line": {
              "color": "white"
             }
            },
            "header": {
             "fill": {
              "color": "#C8D4E3"
             },
             "line": {
              "color": "white"
             }
            },
            "type": "table"
           }
          ]
         },
         "layout": {
          "annotationdefaults": {
           "arrowcolor": "#2a3f5f",
           "arrowhead": 0,
           "arrowwidth": 1
          },
          "autotypenumbers": "strict",
          "coloraxis": {
           "colorbar": {
            "outlinewidth": 0,
            "ticks": ""
           }
          },
          "colorscale": {
           "diverging": [
            [
             0,
             "#8e0152"
            ],
            [
             0.1,
             "#c51b7d"
            ],
            [
             0.2,
             "#de77ae"
            ],
            [
             0.3,
             "#f1b6da"
            ],
            [
             0.4,
             "#fde0ef"
            ],
            [
             0.5,
             "#f7f7f7"
            ],
            [
             0.6,
             "#e6f5d0"
            ],
            [
             0.7,
             "#b8e186"
            ],
            [
             0.8,
             "#7fbc41"
            ],
            [
             0.9,
             "#4d9221"
            ],
            [
             1,
             "#276419"
            ]
           ],
           "sequential": [
            [
             0,
             "#0d0887"
            ],
            [
             0.1111111111111111,
             "#46039f"
            ],
            [
             0.2222222222222222,
             "#7201a8"
            ],
            [
             0.3333333333333333,
             "#9c179e"
            ],
            [
             0.4444444444444444,
             "#bd3786"
            ],
            [
             0.5555555555555556,
             "#d8576b"
            ],
            [
             0.6666666666666666,
             "#ed7953"
            ],
            [
             0.7777777777777778,
             "#fb9f3a"
            ],
            [
             0.8888888888888888,
             "#fdca26"
            ],
            [
             1,
             "#f0f921"
            ]
           ],
           "sequentialminus": [
            [
             0,
             "#0d0887"
            ],
            [
             0.1111111111111111,
             "#46039f"
            ],
            [
             0.2222222222222222,
             "#7201a8"
            ],
            [
             0.3333333333333333,
             "#9c179e"
            ],
            [
             0.4444444444444444,
             "#bd3786"
            ],
            [
             0.5555555555555556,
             "#d8576b"
            ],
            [
             0.6666666666666666,
             "#ed7953"
            ],
            [
             0.7777777777777778,
             "#fb9f3a"
            ],
            [
             0.8888888888888888,
             "#fdca26"
            ],
            [
             1,
             "#f0f921"
            ]
           ]
          },
          "colorway": [
           "#636efa",
           "#EF553B",
           "#00cc96",
           "#ab63fa",
           "#FFA15A",
           "#19d3f3",
           "#FF6692",
           "#B6E880",
           "#FF97FF",
           "#FECB52"
          ],
          "font": {
           "color": "#2a3f5f"
          },
          "geo": {
           "bgcolor": "white",
           "lakecolor": "white",
           "landcolor": "#E5ECF6",
           "showlakes": true,
           "showland": true,
           "subunitcolor": "white"
          },
          "hoverlabel": {
           "align": "left"
          },
          "hovermode": "closest",
          "mapbox": {
           "style": "light"
          },
          "paper_bgcolor": "white",
          "plot_bgcolor": "#E5ECF6",
          "polar": {
           "angularaxis": {
            "gridcolor": "white",
            "linecolor": "white",
            "ticks": ""
           },
           "bgcolor": "#E5ECF6",
           "radialaxis": {
            "gridcolor": "white",
            "linecolor": "white",
            "ticks": ""
           }
          },
          "scene": {
           "xaxis": {
            "backgroundcolor": "#E5ECF6",
            "gridcolor": "white",
            "gridwidth": 2,
            "linecolor": "white",
            "showbackground": true,
            "ticks": "",
            "zerolinecolor": "white"
           },
           "yaxis": {
            "backgroundcolor": "#E5ECF6",
            "gridcolor": "white",
            "gridwidth": 2,
            "linecolor": "white",
            "showbackground": true,
            "ticks": "",
            "zerolinecolor": "white"
           },
           "zaxis": {
            "backgroundcolor": "#E5ECF6",
            "gridcolor": "white",
            "gridwidth": 2,
            "linecolor": "white",
            "showbackground": true,
            "ticks": "",
            "zerolinecolor": "white"
           }
          },
          "shapedefaults": {
           "line": {
            "color": "#2a3f5f"
           }
          },
          "ternary": {
           "aaxis": {
            "gridcolor": "white",
            "linecolor": "white",
            "ticks": ""
           },
           "baxis": {
            "gridcolor": "white",
            "linecolor": "white",
            "ticks": ""
           },
           "bgcolor": "#E5ECF6",
           "caxis": {
            "gridcolor": "white",
            "linecolor": "white",
            "ticks": ""
           }
          },
          "title": {
           "x": 0.05
          },
          "xaxis": {
           "automargin": true,
           "gridcolor": "white",
           "linecolor": "white",
           "ticks": "",
           "title": {
            "standoff": 15
           },
           "zerolinecolor": "white",
           "zerolinewidth": 2
          },
          "yaxis": {
           "automargin": true,
           "gridcolor": "white",
           "linecolor": "white",
           "ticks": "",
           "title": {
            "standoff": 15
           },
           "zerolinecolor": "white",
           "zerolinewidth": 2
          }
         }
        },
        "title": {
         "text": "Energy Use by Continent"
        },
        "xaxis": {
         "anchor": "y",
         "categoryarray": [
          "Europe",
          "Africa",
          "Americas",
          "Oceania",
          "Asia"
         ],
         "categoryorder": "array",
         "domain": [
          0,
          1
         ],
         "title": {
          "text": "continent"
         }
        },
        "yaxis": {
         "anchor": "x",
         "domain": [
          0,
          1
         ],
         "title": {
          "text": "Energy use"
         }
        }
       }
      }
     },
     "metadata": {},
     "output_type": "display_data"
    }
   ],
   "source": [
    "# visualization: box plot\n",
    "\n",
    "fig_1 = px.box ( df_1, x='continent', y='Energy use (kg of oil equivalent per capita)',\n",
    "                color='continent',\n",
    "                title='Energy Use by Continent',\n",
    "                labels = {'Energy use (kg of oil equivalent per capita)': 'Energy use'} )\n",
    "\n",
    "fig_1.show()"
   ]
  },
  {
   "attachments": {},
   "cell_type": "markdown",
   "metadata": {},
   "source": [
    "## 2.\n",
    "\n",
    "* independent T-test: why?  \n",
    "predictor variable: categorical variable (Asia, Europe), outcome variable: quantitative (Imports of goods and services), only 2 groups Asia, Europe) are being compared;  \n",
    "\n",
    "since there are very few Nan value, I deleted the rows with Nan 'imports of goods', then the 2 groups have equal size, and these two sample sets are not same, so I use independent T-test\n",
    "\n",
    "* p-value is 0.157519693255542 which is larger than 0.05, so there is no significant difference between Europe and Asia with respect to 'Imports of goods and services (% of GDP)' in the years after 1990!\n",
    "\n",
    "* box plot:\n",
    "X-axis: 2 categories (Asia, Europe), y-axis: one continuous varable(Imports of goods and services)\n",
    "corresponding to the t-test output, there is no significant difference."
   ]
  },
  {
   "cell_type": "code",
   "execution_count": 183,
   "metadata": {},
   "outputs": [
    {
     "name": "stdout",
     "output_type": "stream",
     "text": [
      "T-test Result:\n",
      "p-value: 0.157519693255542\n"
     ]
    },
    {
     "name": "stderr",
     "output_type": "stream",
     "text": [
      "/var/folders/q0/2p8kfxsn7s73349btf1_g07h0000gp/T/ipykernel_9025/1995373299.py:4: UserWarning:\n",
      "\n",
      "Boolean Series key will be reindexed to match DataFrame index.\n",
      "\n"
     ]
    }
   ],
   "source": [
    "## stats\n",
    "\n",
    "after1990_df = df[df['Year'] > 1990]\n",
    "after1990_df_2 = after1990_df[df['continent'].isin(['Europe','Asia'])]\n",
    "after1990_df_2 = after1990_df_2[['continent', 'Imports of goods and services (% of GDP)']]\n",
    "\n",
    "after1990_df_3 = after1990_df_2.dropna()\n",
    "\n",
    "# Filter the data for Europe and Asia\n",
    "europe_data = after1990_df_3[after1990_df_3['continent'] == 'Europe']['Imports of goods and services (% of GDP)']\n",
    "asia_data = after1990_df_3[after1990_df_3['continent'] == 'Asia']['Imports of goods and services (% of GDP)']\n",
    "\n",
    "# Perform the t-test\n",
    "result = ttest_ind(europe_data, asia_data)\n",
    "\n",
    "# Print the result\n",
    "print(\"T-test Result:\")\n",
    "print(\"p-value:\", result.pvalue)\n"
   ]
  },
  {
   "cell_type": "code",
   "execution_count": 184,
   "metadata": {},
   "outputs": [
    {
     "data": {
      "application/vnd.plotly.v1+json": {
       "config": {
        "plotlyServerURL": "https://plot.ly"
       },
       "data": [
        {
         "alignmentgroup": "True",
         "hovertemplate": "continent=%{x}<br>Imports of goods and services=%{y}<extra></extra>",
         "legendgroup": "Asia",
         "marker": {
          "color": "#636efa"
         },
         "name": "Asia",
         "notched": false,
         "offsetgroup": "Asia",
         "orientation": "v",
         "showlegend": true,
         "type": "box",
         "x": [
          "Asia",
          "Asia",
          "Asia",
          "Asia",
          "Asia",
          "Asia",
          "Asia",
          "Asia",
          "Asia",
          "Asia",
          "Asia",
          "Asia",
          "Asia",
          "Asia",
          "Asia",
          "Asia",
          "Asia",
          "Asia",
          "Asia",
          "Asia",
          "Asia",
          "Asia",
          "Asia",
          "Asia",
          "Asia",
          "Asia",
          "Asia",
          "Asia",
          "Asia",
          "Asia",
          "Asia",
          "Asia",
          "Asia",
          "Asia",
          "Asia",
          "Asia",
          "Asia",
          "Asia",
          "Asia",
          "Asia",
          "Asia",
          "Asia",
          "Asia",
          "Asia",
          "Asia",
          "Asia",
          "Asia",
          "Asia",
          "Asia",
          "Asia",
          "Asia",
          "Asia",
          "Asia",
          "Asia",
          "Asia",
          "Asia",
          "Asia",
          "Asia",
          "Asia",
          "Asia",
          "Asia",
          "Asia",
          "Asia",
          "Asia",
          "Asia",
          "Asia",
          "Asia",
          "Asia",
          "Asia",
          "Asia",
          "Asia",
          "Asia",
          "Asia",
          "Asia",
          "Asia",
          "Asia",
          "Asia",
          "Asia",
          "Asia",
          "Asia",
          "Asia",
          "Asia",
          "Asia",
          "Asia",
          "Asia",
          "Asia",
          "Asia",
          "Asia",
          "Asia",
          "Asia",
          "Asia",
          "Asia",
          "Asia",
          "Asia",
          "Asia",
          "Asia",
          "Asia",
          "Asia"
         ],
         "x0": " ",
         "xaxis": "x",
         "y": [
          65.2877040065,
          58.3500468255,
          96.7420454545,
          69.5052959617,
          58.389862877,
          58.105521340200006,
          12.3473285921,
          15.8051428327,
          16.557411789,
          22.9470478067,
          45.3177088819,
          64.2708081103,
          72.94217881899999,
          14.4875132406,
          15.0398612938,
          20.1026620472,
          26.7164353002,
          9.42488847372,
          11.723082627,
          14.9815485884,
          25.1519079066,
          27.1201247208,
          28.1346335393,
          26.3918424154,
          25.3935314931,
          1.3387380938299998,
          42.3411609934,
          49.1919962299,
          28.1930139321,
          44.3365198368,
          32.587292588400004,
          35.6972911543,
          41.0701019971,
          7.643451906869999,
          9.49188652841,
          9.66739032943,
          15.6005719141,
          81.4065893831,
          71.5829118173,
          66.632176737,
          91.7584082453,
          54.2177987777,
          39.5915918101,
          36.6091466782,
          28.3171173383,
          75.8579855593,
          47.5546391753,
          34.9438902743,
          63.0607287449,
          74.6278561995,
          92.3753082915,
          91.0509065478,
          86.2975320889,
          36.3626536496,
          47.32510391939999,
          67.7906371355,
          58.2659779932,
          0.225449347209,
          0.0795059581624,
          25.7356870079,
          37.7076998214,
          28.4935889762,
          31.7236101436,
          35.5479437749,
          38.5910173249,
          27.9151441594,
          39.9893707746,
          20.5285578209,
          20.7703128758,
          15.3140127214,
          19.7758151542,
          34.0281852291,
          59.29383539999999,
          55.6880751307,
          43.3586106398,
          36.1921329627,
          26.1824690647,
          23.7762475126,
          34.9258769575,
          149.51131554,
          155.486859844,
          168.31371458,
          183.915527311,
          41.0333824771,
          43.5994352288,
          41.4218015848,
          39.4915119731,
          40.9821700246,
          46.8148412659,
          54.3239904201,
          61.0009114941,
          38.8312898757,
          51.2417759691,
          57.249342474,
          84.0875093943,
          73.04111867479999,
          62.8156816898,
          77.8106722688
         ],
         "y0": " ",
         "yaxis": "y"
        },
        {
         "alignmentgroup": "True",
         "hovertemplate": "continent=%{x}<br>Imports of goods and services=%{y}<extra></extra>",
         "legendgroup": "Europe",
         "marker": {
          "color": "#EF553B"
         },
         "name": "Europe",
         "notched": false,
         "offsetgroup": "Europe",
         "orientation": "v",
         "showlegend": true,
         "type": "box",
         "x": [
          "Europe",
          "Europe",
          "Europe",
          "Europe",
          "Europe",
          "Europe",
          "Europe",
          "Europe",
          "Europe",
          "Europe",
          "Europe",
          "Europe",
          "Europe",
          "Europe",
          "Europe",
          "Europe",
          "Europe",
          "Europe",
          "Europe",
          "Europe",
          "Europe",
          "Europe",
          "Europe",
          "Europe",
          "Europe",
          "Europe",
          "Europe",
          "Europe",
          "Europe",
          "Europe",
          "Europe",
          "Europe",
          "Europe",
          "Europe",
          "Europe",
          "Europe",
          "Europe",
          "Europe",
          "Europe",
          "Europe",
          "Europe",
          "Europe",
          "Europe",
          "Europe",
          "Europe",
          "Europe",
          "Europe",
          "Europe",
          "Europe",
          "Europe",
          "Europe",
          "Europe",
          "Europe",
          "Europe",
          "Europe",
          "Europe",
          "Europe",
          "Europe",
          "Europe",
          "Europe",
          "Europe",
          "Europe",
          "Europe",
          "Europe",
          "Europe",
          "Europe",
          "Europe",
          "Europe",
          "Europe",
          "Europe",
          "Europe",
          "Europe",
          "Europe",
          "Europe",
          "Europe",
          "Europe",
          "Europe",
          "Europe",
          "Europe",
          "Europe",
          "Europe",
          "Europe",
          "Europe",
          "Europe",
          "Europe",
          "Europe",
          "Europe",
          "Europe",
          "Europe",
          "Europe",
          "Europe",
          "Europe",
          "Europe",
          "Europe",
          "Europe",
          "Europe",
          "Europe",
          "Europe",
          "Europe",
          "Europe",
          "Europe",
          "Europe",
          "Europe",
          "Europe",
          "Europe",
          "Europe",
          "Europe",
          "Europe",
          "Europe",
          "Europe",
          "Europe",
          "Europe",
          "Europe",
          "Europe"
         ],
         "x0": " ",
         "xaxis": "x",
         "y": [
          88.5122484875,
          34.1899954311,
          44.3353664726,
          54.7882006817,
          34.5289764917,
          37.8834640896,
          41.6507009529,
          48.3336828443,
          56.0198770682,
          60.4699234894,
          64.8101122243,
          73.6727852921,
          72.797329856,
          70.9293545706,
          56.4586949513,
          52.938247012,
          37.2840983857,
          41.7304308008,
          70.6481778799,
          44.2274001589,
          45.5475127824,
          46.26795219,
          39.0048670058,
          44.7363476681,
          46.5234495636,
          64.1024536911,
          30.1104077732,
          33.4544366297,
          38.8921703701,
          48.502240028,
          24.6770848065,
          30.4628943994,
          30.2045330402,
          39.1791364747,
          20.5079690124,
          22.3386387575,
          25.3757388229,
          28.4193105717,
          22.7863176274,
          24.2090600837,
          28.1989688995,
          36.3606196011,
          23.9437536025,
          23.0519635059,
          30.2361418116,
          35.0041044594,
          27.8478918237,
          46.9886021788,
          60.117586376800006,
          77.6183100564,
          29.731456037,
          34.9518564867,
          34.5066481223,
          42.5353946584,
          51.0894327446,
          65.17606264310001,
          73.295336366,
          72.4776748214,
          17.4871644619,
          20.4814697289,
          23.7262338729,
          27.7864496661,
          59.8844129108,
          86.6989968539,
          48.7843340291,
          54.20113381979999,
          53.959648211,
          61.4482781111,
          30.5310708615,
          32.5057564723,
          27.2520303734,
          29.8897253923,
          19.9467339483,
          27.1144798245,
          32.1662388033,
          42.0974145444,
          31.8454729567,
          35.141898248800004,
          35.2155009835,
          38.6473370483,
          36.1988323492,
          34.7505362196,
          40.8248050842,
          43.4469976538,
          29.8848078941,
          38.7253440201,
          52.66337379310001,
          69.7293093289,
          64.4734963454,
          64.7137426173,
          84.3950908526,
          48.7322747634,
          51.1695761128,
          68.8949043961,
          19.7473148836,
          25.5385108358,
          28.5057281045,
          31.6987214183,
          25.0010584659,
          33.102555836,
          35.7735159206,
          41.2817143067,
          37.6912446806,
          42.1233310838,
          42.258312305100006,
          50.2696323325,
          17.3451299105,
          30.3886058881,
          23.5827728271,
          27.4838724792,
          22.8596273413,
          25.1006811488,
          26.6895890682,
          27.4732345237
         ],
         "y0": " ",
         "yaxis": "y"
        }
       ],
       "layout": {
        "boxmode": "overlay",
        "legend": {
         "title": {
          "text": "continent"
         },
         "tracegroupgap": 0
        },
        "template": {
         "data": {
          "bar": [
           {
            "error_x": {
             "color": "#2a3f5f"
            },
            "error_y": {
             "color": "#2a3f5f"
            },
            "marker": {
             "line": {
              "color": "#E5ECF6",
              "width": 0.5
             },
             "pattern": {
              "fillmode": "overlay",
              "size": 10,
              "solidity": 0.2
             }
            },
            "type": "bar"
           }
          ],
          "barpolar": [
           {
            "marker": {
             "line": {
              "color": "#E5ECF6",
              "width": 0.5
             },
             "pattern": {
              "fillmode": "overlay",
              "size": 10,
              "solidity": 0.2
             }
            },
            "type": "barpolar"
           }
          ],
          "carpet": [
           {
            "aaxis": {
             "endlinecolor": "#2a3f5f",
             "gridcolor": "white",
             "linecolor": "white",
             "minorgridcolor": "white",
             "startlinecolor": "#2a3f5f"
            },
            "baxis": {
             "endlinecolor": "#2a3f5f",
             "gridcolor": "white",
             "linecolor": "white",
             "minorgridcolor": "white",
             "startlinecolor": "#2a3f5f"
            },
            "type": "carpet"
           }
          ],
          "choropleth": [
           {
            "colorbar": {
             "outlinewidth": 0,
             "ticks": ""
            },
            "type": "choropleth"
           }
          ],
          "contour": [
           {
            "colorbar": {
             "outlinewidth": 0,
             "ticks": ""
            },
            "colorscale": [
             [
              0,
              "#0d0887"
             ],
             [
              0.1111111111111111,
              "#46039f"
             ],
             [
              0.2222222222222222,
              "#7201a8"
             ],
             [
              0.3333333333333333,
              "#9c179e"
             ],
             [
              0.4444444444444444,
              "#bd3786"
             ],
             [
              0.5555555555555556,
              "#d8576b"
             ],
             [
              0.6666666666666666,
              "#ed7953"
             ],
             [
              0.7777777777777778,
              "#fb9f3a"
             ],
             [
              0.8888888888888888,
              "#fdca26"
             ],
             [
              1,
              "#f0f921"
             ]
            ],
            "type": "contour"
           }
          ],
          "contourcarpet": [
           {
            "colorbar": {
             "outlinewidth": 0,
             "ticks": ""
            },
            "type": "contourcarpet"
           }
          ],
          "heatmap": [
           {
            "colorbar": {
             "outlinewidth": 0,
             "ticks": ""
            },
            "colorscale": [
             [
              0,
              "#0d0887"
             ],
             [
              0.1111111111111111,
              "#46039f"
             ],
             [
              0.2222222222222222,
              "#7201a8"
             ],
             [
              0.3333333333333333,
              "#9c179e"
             ],
             [
              0.4444444444444444,
              "#bd3786"
             ],
             [
              0.5555555555555556,
              "#d8576b"
             ],
             [
              0.6666666666666666,
              "#ed7953"
             ],
             [
              0.7777777777777778,
              "#fb9f3a"
             ],
             [
              0.8888888888888888,
              "#fdca26"
             ],
             [
              1,
              "#f0f921"
             ]
            ],
            "type": "heatmap"
           }
          ],
          "heatmapgl": [
           {
            "colorbar": {
             "outlinewidth": 0,
             "ticks": ""
            },
            "colorscale": [
             [
              0,
              "#0d0887"
             ],
             [
              0.1111111111111111,
              "#46039f"
             ],
             [
              0.2222222222222222,
              "#7201a8"
             ],
             [
              0.3333333333333333,
              "#9c179e"
             ],
             [
              0.4444444444444444,
              "#bd3786"
             ],
             [
              0.5555555555555556,
              "#d8576b"
             ],
             [
              0.6666666666666666,
              "#ed7953"
             ],
             [
              0.7777777777777778,
              "#fb9f3a"
             ],
             [
              0.8888888888888888,
              "#fdca26"
             ],
             [
              1,
              "#f0f921"
             ]
            ],
            "type": "heatmapgl"
           }
          ],
          "histogram": [
           {
            "marker": {
             "pattern": {
              "fillmode": "overlay",
              "size": 10,
              "solidity": 0.2
             }
            },
            "type": "histogram"
           }
          ],
          "histogram2d": [
           {
            "colorbar": {
             "outlinewidth": 0,
             "ticks": ""
            },
            "colorscale": [
             [
              0,
              "#0d0887"
             ],
             [
              0.1111111111111111,
              "#46039f"
             ],
             [
              0.2222222222222222,
              "#7201a8"
             ],
             [
              0.3333333333333333,
              "#9c179e"
             ],
             [
              0.4444444444444444,
              "#bd3786"
             ],
             [
              0.5555555555555556,
              "#d8576b"
             ],
             [
              0.6666666666666666,
              "#ed7953"
             ],
             [
              0.7777777777777778,
              "#fb9f3a"
             ],
             [
              0.8888888888888888,
              "#fdca26"
             ],
             [
              1,
              "#f0f921"
             ]
            ],
            "type": "histogram2d"
           }
          ],
          "histogram2dcontour": [
           {
            "colorbar": {
             "outlinewidth": 0,
             "ticks": ""
            },
            "colorscale": [
             [
              0,
              "#0d0887"
             ],
             [
              0.1111111111111111,
              "#46039f"
             ],
             [
              0.2222222222222222,
              "#7201a8"
             ],
             [
              0.3333333333333333,
              "#9c179e"
             ],
             [
              0.4444444444444444,
              "#bd3786"
             ],
             [
              0.5555555555555556,
              "#d8576b"
             ],
             [
              0.6666666666666666,
              "#ed7953"
             ],
             [
              0.7777777777777778,
              "#fb9f3a"
             ],
             [
              0.8888888888888888,
              "#fdca26"
             ],
             [
              1,
              "#f0f921"
             ]
            ],
            "type": "histogram2dcontour"
           }
          ],
          "mesh3d": [
           {
            "colorbar": {
             "outlinewidth": 0,
             "ticks": ""
            },
            "type": "mesh3d"
           }
          ],
          "parcoords": [
           {
            "line": {
             "colorbar": {
              "outlinewidth": 0,
              "ticks": ""
             }
            },
            "type": "parcoords"
           }
          ],
          "pie": [
           {
            "automargin": true,
            "type": "pie"
           }
          ],
          "scatter": [
           {
            "fillpattern": {
             "fillmode": "overlay",
             "size": 10,
             "solidity": 0.2
            },
            "type": "scatter"
           }
          ],
          "scatter3d": [
           {
            "line": {
             "colorbar": {
              "outlinewidth": 0,
              "ticks": ""
             }
            },
            "marker": {
             "colorbar": {
              "outlinewidth": 0,
              "ticks": ""
             }
            },
            "type": "scatter3d"
           }
          ],
          "scattercarpet": [
           {
            "marker": {
             "colorbar": {
              "outlinewidth": 0,
              "ticks": ""
             }
            },
            "type": "scattercarpet"
           }
          ],
          "scattergeo": [
           {
            "marker": {
             "colorbar": {
              "outlinewidth": 0,
              "ticks": ""
             }
            },
            "type": "scattergeo"
           }
          ],
          "scattergl": [
           {
            "marker": {
             "colorbar": {
              "outlinewidth": 0,
              "ticks": ""
             }
            },
            "type": "scattergl"
           }
          ],
          "scattermapbox": [
           {
            "marker": {
             "colorbar": {
              "outlinewidth": 0,
              "ticks": ""
             }
            },
            "type": "scattermapbox"
           }
          ],
          "scatterpolar": [
           {
            "marker": {
             "colorbar": {
              "outlinewidth": 0,
              "ticks": ""
             }
            },
            "type": "scatterpolar"
           }
          ],
          "scatterpolargl": [
           {
            "marker": {
             "colorbar": {
              "outlinewidth": 0,
              "ticks": ""
             }
            },
            "type": "scatterpolargl"
           }
          ],
          "scatterternary": [
           {
            "marker": {
             "colorbar": {
              "outlinewidth": 0,
              "ticks": ""
             }
            },
            "type": "scatterternary"
           }
          ],
          "surface": [
           {
            "colorbar": {
             "outlinewidth": 0,
             "ticks": ""
            },
            "colorscale": [
             [
              0,
              "#0d0887"
             ],
             [
              0.1111111111111111,
              "#46039f"
             ],
             [
              0.2222222222222222,
              "#7201a8"
             ],
             [
              0.3333333333333333,
              "#9c179e"
             ],
             [
              0.4444444444444444,
              "#bd3786"
             ],
             [
              0.5555555555555556,
              "#d8576b"
             ],
             [
              0.6666666666666666,
              "#ed7953"
             ],
             [
              0.7777777777777778,
              "#fb9f3a"
             ],
             [
              0.8888888888888888,
              "#fdca26"
             ],
             [
              1,
              "#f0f921"
             ]
            ],
            "type": "surface"
           }
          ],
          "table": [
           {
            "cells": {
             "fill": {
              "color": "#EBF0F8"
             },
             "line": {
              "color": "white"
             }
            },
            "header": {
             "fill": {
              "color": "#C8D4E3"
             },
             "line": {
              "color": "white"
             }
            },
            "type": "table"
           }
          ]
         },
         "layout": {
          "annotationdefaults": {
           "arrowcolor": "#2a3f5f",
           "arrowhead": 0,
           "arrowwidth": 1
          },
          "autotypenumbers": "strict",
          "coloraxis": {
           "colorbar": {
            "outlinewidth": 0,
            "ticks": ""
           }
          },
          "colorscale": {
           "diverging": [
            [
             0,
             "#8e0152"
            ],
            [
             0.1,
             "#c51b7d"
            ],
            [
             0.2,
             "#de77ae"
            ],
            [
             0.3,
             "#f1b6da"
            ],
            [
             0.4,
             "#fde0ef"
            ],
            [
             0.5,
             "#f7f7f7"
            ],
            [
             0.6,
             "#e6f5d0"
            ],
            [
             0.7,
             "#b8e186"
            ],
            [
             0.8,
             "#7fbc41"
            ],
            [
             0.9,
             "#4d9221"
            ],
            [
             1,
             "#276419"
            ]
           ],
           "sequential": [
            [
             0,
             "#0d0887"
            ],
            [
             0.1111111111111111,
             "#46039f"
            ],
            [
             0.2222222222222222,
             "#7201a8"
            ],
            [
             0.3333333333333333,
             "#9c179e"
            ],
            [
             0.4444444444444444,
             "#bd3786"
            ],
            [
             0.5555555555555556,
             "#d8576b"
            ],
            [
             0.6666666666666666,
             "#ed7953"
            ],
            [
             0.7777777777777778,
             "#fb9f3a"
            ],
            [
             0.8888888888888888,
             "#fdca26"
            ],
            [
             1,
             "#f0f921"
            ]
           ],
           "sequentialminus": [
            [
             0,
             "#0d0887"
            ],
            [
             0.1111111111111111,
             "#46039f"
            ],
            [
             0.2222222222222222,
             "#7201a8"
            ],
            [
             0.3333333333333333,
             "#9c179e"
            ],
            [
             0.4444444444444444,
             "#bd3786"
            ],
            [
             0.5555555555555556,
             "#d8576b"
            ],
            [
             0.6666666666666666,
             "#ed7953"
            ],
            [
             0.7777777777777778,
             "#fb9f3a"
            ],
            [
             0.8888888888888888,
             "#fdca26"
            ],
            [
             1,
             "#f0f921"
            ]
           ]
          },
          "colorway": [
           "#636efa",
           "#EF553B",
           "#00cc96",
           "#ab63fa",
           "#FFA15A",
           "#19d3f3",
           "#FF6692",
           "#B6E880",
           "#FF97FF",
           "#FECB52"
          ],
          "font": {
           "color": "#2a3f5f"
          },
          "geo": {
           "bgcolor": "white",
           "lakecolor": "white",
           "landcolor": "#E5ECF6",
           "showlakes": true,
           "showland": true,
           "subunitcolor": "white"
          },
          "hoverlabel": {
           "align": "left"
          },
          "hovermode": "closest",
          "mapbox": {
           "style": "light"
          },
          "paper_bgcolor": "white",
          "plot_bgcolor": "#E5ECF6",
          "polar": {
           "angularaxis": {
            "gridcolor": "white",
            "linecolor": "white",
            "ticks": ""
           },
           "bgcolor": "#E5ECF6",
           "radialaxis": {
            "gridcolor": "white",
            "linecolor": "white",
            "ticks": ""
           }
          },
          "scene": {
           "xaxis": {
            "backgroundcolor": "#E5ECF6",
            "gridcolor": "white",
            "gridwidth": 2,
            "linecolor": "white",
            "showbackground": true,
            "ticks": "",
            "zerolinecolor": "white"
           },
           "yaxis": {
            "backgroundcolor": "#E5ECF6",
            "gridcolor": "white",
            "gridwidth": 2,
            "linecolor": "white",
            "showbackground": true,
            "ticks": "",
            "zerolinecolor": "white"
           },
           "zaxis": {
            "backgroundcolor": "#E5ECF6",
            "gridcolor": "white",
            "gridwidth": 2,
            "linecolor": "white",
            "showbackground": true,
            "ticks": "",
            "zerolinecolor": "white"
           }
          },
          "shapedefaults": {
           "line": {
            "color": "#2a3f5f"
           }
          },
          "ternary": {
           "aaxis": {
            "gridcolor": "white",
            "linecolor": "white",
            "ticks": ""
           },
           "baxis": {
            "gridcolor": "white",
            "linecolor": "white",
            "ticks": ""
           },
           "bgcolor": "#E5ECF6",
           "caxis": {
            "gridcolor": "white",
            "linecolor": "white",
            "ticks": ""
           }
          },
          "title": {
           "x": 0.05
          },
          "xaxis": {
           "automargin": true,
           "gridcolor": "white",
           "linecolor": "white",
           "ticks": "",
           "title": {
            "standoff": 15
           },
           "zerolinecolor": "white",
           "zerolinewidth": 2
          },
          "yaxis": {
           "automargin": true,
           "gridcolor": "white",
           "linecolor": "white",
           "ticks": "",
           "title": {
            "standoff": 15
           },
           "zerolinecolor": "white",
           "zerolinewidth": 2
          }
         }
        },
        "title": {
         "text": "Imports of goods and services from Asia or Europe"
        },
        "xaxis": {
         "anchor": "y",
         "categoryarray": [
          "Asia",
          "Europe"
         ],
         "categoryorder": "array",
         "domain": [
          0,
          1
         ],
         "title": {
          "text": "continent"
         }
        },
        "yaxis": {
         "anchor": "x",
         "domain": [
          0,
          1
         ],
         "title": {
          "text": "Imports of goods and services"
         }
        }
       }
      }
     },
     "metadata": {},
     "output_type": "display_data"
    }
   ],
   "source": [
    "# plot\n",
    "\n",
    "fig_2 = px.box ( after1990_df_3, x='continent', y='Imports of goods and services (% of GDP)',\n",
    "                color='continent',\n",
    "                title='Imports of goods and services from Asia or Europe',\n",
    "                labels = {'Imports of goods and services (% of GDP)': 'Imports of goods and services'} )\n",
    "\n",
    "fig_2.show()"
   ]
  },
  {
   "attachments": {},
   "cell_type": "markdown",
   "metadata": {},
   "source": [
    "## 3. \n",
    "\n",
    "* the country with Highest Population Density:  \n",
    "it is Macao SAR, China with the average population density 14732.035211.\n",
    "\n",
    "* and I made a bar plot to show"
   ]
  },
  {
   "cell_type": "code",
   "execution_count": 185,
   "metadata": {},
   "outputs": [
    {
     "name": "stdout",
     "output_type": "stream",
     "text": [
      "Country/Countries with Highest Population Density:\n",
      "Country Name\n",
      "Macao SAR, China    14732.035211\n",
      "Name: Population density (people per sq. km of land area), dtype: float64\n"
     ]
    }
   ],
   "source": [
    "# Calculate the average 'Population density' for each country\n",
    "average_popden = df.groupby('Country Name')['Population density (people per sq. km of land area)'].mean()\n",
    "sorted_countries = average_popden.sort_values(ascending=False)\n",
    "\n",
    "# Get the countries with the highest average ranking\n",
    "highest_countries = sorted_countries[sorted_countries == sorted_countries.max()]\n",
    "\n",
    "\n",
    "print(\"Country/Countries with Highest Population Density:\")\n",
    "print(highest_countries)\n"
   ]
  },
  {
   "cell_type": "code",
   "execution_count": 186,
   "metadata": {},
   "outputs": [
    {
     "data": {
      "text/plain": [
       "Country Name\n",
       "Macao SAR, China        14732.035211\n",
       "Monaco                  14089.900000\n",
       "Hong Kong SAR, China     5153.056903\n",
       "Singapore                4361.499928\n",
       "Gibraltar                2622.250000\n",
       "                            ...     \n",
       "Mauritania                  1.834292\n",
       "Namibia                     1.548358\n",
       "Mongolia                    1.192741\n",
       "Greenland                   0.139400\n",
       "South Sudan                      NaN\n",
       "Name: Population density (people per sq. km of land area), Length: 263, dtype: float64"
      ]
     },
     "execution_count": 186,
     "metadata": {},
     "output_type": "execute_result"
    }
   ],
   "source": [
    "sorted_countries"
   ]
  },
  {
   "cell_type": "code",
   "execution_count": 187,
   "metadata": {},
   "outputs": [
    {
     "data": {
      "application/vnd.plotly.v1+json": {
       "config": {
        "plotlyServerURL": "https://plot.ly"
       },
       "data": [
        {
         "alignmentgroup": "True",
         "hovertemplate": "Country Name=%{x}<br>Average Population Density=%{y}<extra></extra>",
         "legendgroup": "",
         "marker": {
          "color": "#636efa",
          "pattern": {
           "shape": ""
          }
         },
         "name": "",
         "offsetgroup": "",
         "orientation": "v",
         "showlegend": false,
         "textposition": "auto",
         "type": "bar",
         "x": [
          "Macao SAR, China",
          "Monaco",
          "Hong Kong SAR, China",
          "Singapore",
          "Gibraltar",
          "Bermuda",
          "Malta",
          "Sint Maarten (Dutch part)",
          "Bangladesh",
          "Channel Islands",
          "Maldives",
          "Bahrain",
          "Barbados",
          "Mauritius",
          "West Bank and Gaza",
          "Netherlands",
          "Korea, Rep.",
          "Nauru",
          "Aruba",
          "San Marino",
          "Puerto Rico",
          "Belgium",
          "Curacao",
          "Japan",
          "St. Martin (French part)",
          "Marshall Islands",
          "Grenada",
          "Tuvalu",
          "Lebanon",
          "India",
          "St. Vincent and the Grenadines",
          "Virgin Islands",
          "Sri Lanka",
          "Rwanda",
          "Haiti",
          "United Kingdom",
          "El Salvador",
          "Germany",
          "Trinidad and Tobago",
          "South Asia (IDA & IBRD)",
          "South Asia",
          "Guam",
          "St. Lucia",
          "Israel",
          "Jamaica",
          "Comoros",
          "American Samoa",
          "Burundi",
          "Italy",
          "Philippines",
          "Vietnam",
          "Luxembourg",
          "Liechtenstein",
          "Switzerland",
          "Antigua and Barbuda",
          "St. Kitts and Nevis",
          "Korea, Dem. People�s Rep.",
          "Micronesia, Fed. Sts.",
          "Seychelles",
          "Kosovo",
          "Dominican Republic",
          "Czech Republic",
          "Northern Mariana Islands",
          "Tonga",
          "Pakistan",
          "Nepal",
          "Denmark",
          "Moldova",
          "Poland",
          "Isle of Man",
          "Hungary",
          "Euro area",
          "European Union",
          "Sao Tome and Principe",
          "China",
          "Portugal",
          "Slovak Republic",
          "France",
          "Armenia",
          "Cayman Islands",
          "Andorra",
          "British Virgin Islands",
          "Thailand",
          "Albania",
          "Nigeria",
          "Central Europe and the Baltics",
          "Dominica",
          "Slovenia",
          "Austria",
          "Romania",
          "Cuba",
          "East Asia & Pacific (excluding high income)",
          "East Asia & Pacific (IDA & IBRD countries)",
          "Indonesia",
          "Ukraine",
          "Serbia",
          "Malawi",
          "Cabo Verde",
          "Kiribati",
          "Cyprus",
          "Gambia, The",
          "Uganda",
          "Croatia",
          "Lower middle income",
          "Kuwait",
          "Azerbaijan",
          "Guatemala",
          "Bosnia and Herzegovina",
          "Greece",
          "Georgia",
          "Bulgaria",
          "Spain",
          "Macedonia, FYR",
          "East Asia & Pacific",
          "Turkey",
          "Togo",
          "Syrian Arab Republic",
          "Ghana",
          "Myanmar",
          "Samoa",
          "Early-demographic dividend",
          "Costa Rica",
          "Lithuania",
          "Egypt, Arab Rep.",
          "Cambodia",
          "Malaysia",
          "Ireland",
          "Morocco",
          "Timor-Leste",
          "Sierra Leone",
          "Lesotho",
          "Belarus",
          "French Polynesia",
          "Tunisia",
          "IDA blend",
          "IBRD only",
          "Middle income",
          "Ethiopia",
          "Brunei Darussalam",
          "Montenegro",
          "Swaziland",
          "Benin",
          "Uzbekistan",
          "Low & middle income",
          "IDA & IBRD total",
          "Palau",
          "Mexico",
          "Honduras",
          "Latvia",
          "Eritrea",
          "Late-demographic dividend",
          "Iraq",
          "World",
          "Kenya",
          "Fiji",
          "Senegal",
          "Guinea-Bissau",
          "Jordan",
          "Ecuador",
          "Qatar",
          "Estonia",
          "Cote d'Ivoire",
          "Tajikistan",
          "Upper middle income",
          "Faroe Islands",
          "Burkina Faso",
          "IDA total",
          "Nicaragua",
          "Panama",
          "OECD members",
          "Post-demographic dividend",
          "Europe & Central Asia",
          "Iran, Islamic Rep.",
          "Colombia",
          "High income",
          "South Africa",
          "Tanzania",
          "United States",
          "IDA only",
          "Guinea",
          "Pacific island small states",
          "Least developed countries: UN classification",
          "Cameroon",
          "Bahamas, The",
          "Middle East & North Africa (excluding high income)",
          "Middle East & North Africa (IDA & IBRD countries)",
          "Low income",
          "Afghanistan",
          "Zimbabwe",
          "Liberia",
          "Yemen, Rep.",
          "United Arab Emirates",
          "Sweden",
          "Kyrgyz Republic",
          "Venezuela, RB",
          "Latin America & Caribbean",
          "Latin America & Caribbean (excluding high income)",
          "Sub-Saharan Africa (IDA & IBRD countries)",
          "Sub-Saharan Africa",
          "Sub-Saharan Africa (excluding high income)",
          "Middle East & North Africa",
          "Latin America & the Caribbean (IDA & IBRD countries)",
          "Pre-demographic dividend",
          "Djibouti",
          "Madagascar",
          "Mozambique",
          "Uruguay",
          "Europe & Central Asia (IDA & IBRD countries)",
          "Heavily indebted poor countries (HIPC)",
          "Lao PDR",
          "Chile",
          "Fragile and conflict affected situations",
          "Brazil",
          "Finland",
          "Europe & Central Asia (excluding high income)",
          "Peru",
          "Congo, Dem. Rep.",
          "North America",
          "Arab World",
          "Caribbean small states",
          "Equatorial Guinea",
          "Turks and Caicos Islands",
          "New Zealand",
          "Norway",
          "Argentina",
          "Vanuatu",
          "Bhutan",
          "Solomon Islands",
          "Sudan",
          "Zambia",
          "Paraguay",
          "Algeria",
          "Small states",
          "Somalia",
          "New Caledonia",
          "Papua New Guinea",
          "Russian Federation",
          "Angola",
          "Belize",
          "Other small states",
          "Turkmenistan",
          "Mali",
          "Congo, Rep.",
          "Saudi Arabia",
          "Niger",
          "Bolivia",
          "Kazakhstan",
          "Oman",
          "Chad",
          "Central African Republic",
          "Guyana",
          "Gabon",
          "Canada",
          "Suriname",
          "Iceland",
          "Libya",
          "Botswana",
          "Australia",
          "Mauritania",
          "Namibia",
          "Mongolia",
          "Greenland",
          "South Sudan"
         ],
         "xaxis": "x",
         "y": [
          14732.03521055,
          14089.9,
          5153.05690264,
          4361.499928215,
          2622.25,
          1132.78,
          1083.8609375,
          1059.235294116,
          733.2588530379,
          706.2242105263,
          662.4446666662,
          648.6187033268,
          592.473488372,
          490.80182266009996,
          475.08214285725,
          426.219893365,
          407.46175675710003,
          405.21999999999997,
          393.09111111109996,
          380.9133333333,
          368.34889515220004,
          346.0780217965,
          321.9389639638,
          318.4852895569,
          317.98161764703,
          285.24444444425,
          284.7044117649,
          278.3433333332,
          273.2197067447,
          267.0402397425,
          257.0130769232,
          255.3705714286,
          246.9111784405,
          237.4084353466,
          236.58403120450004,
          235.6793890794,
          227.5982869898,
          226.7361973217,
          218.62674463950003,
          216.4243560369,
          216.4243560369,
          216.01611111100001,
          210.88032786879998,
          207.52356746750002,
          206.30884579879998,
          204.2903815153,
          201.887,
          198.44307242989998,
          189.1948593198,
          187.21414798809002,
          185.2962796561,
          178.7969111965,
          167.91875,
          166.58450679039998,
          156.4245454547,
          155.92047252729998,
          153.42552861046,
          150.70749999999998,
          143.80826086959001,
          143.52635253061,
          133.78238666938,
          131.1191333807,
          130.79239130425,
          125.43763888893,
          124.69420558329,
          121.51875428111,
          120.52849207,
          117.29569262397999,
          116.65395494286,
          115.73561403509,
          115.19482438499999,
          114.75818197769999,
          110.37434286356999,
          109.87874999994001,
          109.83743660575001,
          105.92779873596001,
          103.62257380463,
          103.13617159206999,
          102.52506146818,
          99.39875000004,
          98.3695744681,
          98.28066666667,
          97.55121356846,
          97.51028832112,
          96.94546625381,
          94.57015314511,
          93.95799999999,
          93.26217974183001,
          93.18795581588999,
          93.03799708871,
          92.16160304357001,
          91.17494442387999,
          90.69967920588,
          89.61089485913001,
          83.89033980319,
          83.47361765378,
          83.11022061947999,
          82.7260794045,
          82.49209876548,
          82.38019480524,
          81.31570158111,
          81.00948501078,
          80.15278735972001,
          79.38541325643,
          79.01574385823334,
          78.85138655211999,
          78.62989455016,
          76.9170283701,
          76.12905430568,
          76.05916932014,
          76.01848959541,
          75.55543869742,
          73.81125366643,
          67.8038111638,
          63.25990839754,
          62.77919654347001,
          60.58667119399,
          59.21648677155,
          57.0477546227,
          55.319823321550004,
          55.258641831160006,
          54.93205444573,
          53.445382897260004,
          50.99924848059,
          50.90490822569,
          50.69757632019,
          50.29307156335,
          49.85074665171,
          48.39891728314,
          47.96882654475,
          47.215039525680005,
          47.04875966512,
          47.02371584699,
          46.87166709577,
          46.28759670894,
          45.098512058189996,
          44.14703064887,
          43.50953611279,
          42.85698292221,
          42.70333828996,
          42.66380232559,
          42.61053831146,
          42.528558298069996,
          41.112734275600005,
          40.94449070879,
          40.059782608700004,
          39.44389325859,
          39.156453659840004,
          38.71455238278,
          37.806742574266664,
          37.74286834287,
          37.444051946870005,
          37.4159642515,
          36.530283410059994,
          36.27963875204,
          35.8594935854,
          35.413531294440006,
          34.70042044426,
          34.35743762165,
          34.340120585706,
          33.27810568532,
          33.22330251573,
          32.55638182338,
          31.266610472870003,
          30.91755014328,
          30.827364035099997,
          30.7847498208,
          30.52207079939,
          30.19284234597,
          29.692427059030003,
          29.508414135920003,
          29.27148908108,
          28.688439917479997,
          27.79325624155,
          27.422344116430004,
          27.309949704780003,
          26.397429442319996,
          26.28218874635,
          25.7280629448,
          24.747361631129998,
          24.286304722559997,
          23.572764913700002,
          23.49709377843,
          23.14533466533,
          23.10399858457,
          22.98766072178,
          22.669051699369998,
          22.613589896759997,
          22.582344578,
          21.7260755814,
          21.61730988503,
          21.563159090922,
          20.49851464638,
          20.31115745568,
          20.104730570829002,
          20.075988223640003,
          19.99326542762,
          19.96264687287,
          19.96264687287,
          19.96023468272,
          19.894262068498,
          19.50300477845,
          19.358278342478002,
          19.025970664367,
          18.724988478846,
          17.24219868256,
          17.215263398460003,
          17.17792162002,
          16.897412327738998,
          16.890077123053,
          16.40243486495,
          16.276325628111,
          16.128914794453003,
          16.05917560595,
          15.676245017069999,
          15.172085234365,
          14.66196969631,
          14.612504073939999,
          14.572384320149002,
          13.96349852909,
          13.360474153298,
          12.895263157896,
          12.588204018093,
          11.400629166727,
          11.091878217851,
          11.034388843317,
          10.276104821157,
          10.079113969287999,
          10.045593392264,
          9.806754597181,
          9.556267304309,
          9.485763097573,
          9.201067746725,
          8.999919341981,
          8.68876914661,
          8.497158503734,
          8.48404588392,
          8.466781743796,
          7.788623410782,
          7.784174062923,
          6.971664716024999,
          6.879977872297999,
          6.394165153737999,
          6.330490489333,
          6.047828846612,
          5.852884242591,
          5.284717376006,
          4.8556284329579995,
          4.63582725323,
          4.349437863173,
          3.667475514118,
          3.445423991928,
          2.8517520297449996,
          2.57033974359,
          2.4170154613459998,
          2.1179953283254003,
          2.1108635505451003,
          2.0546307746370003,
          1.8342923256044,
          1.5483575653784,
          1.1927409305091998,
          0.13939981988689998,
          null
         ],
         "yaxis": "y"
        }
       ],
       "layout": {
        "barmode": "relative",
        "legend": {
         "tracegroupgap": 0
        },
        "template": {
         "data": {
          "bar": [
           {
            "error_x": {
             "color": "#2a3f5f"
            },
            "error_y": {
             "color": "#2a3f5f"
            },
            "marker": {
             "line": {
              "color": "#E5ECF6",
              "width": 0.5
             },
             "pattern": {
              "fillmode": "overlay",
              "size": 10,
              "solidity": 0.2
             }
            },
            "type": "bar"
           }
          ],
          "barpolar": [
           {
            "marker": {
             "line": {
              "color": "#E5ECF6",
              "width": 0.5
             },
             "pattern": {
              "fillmode": "overlay",
              "size": 10,
              "solidity": 0.2
             }
            },
            "type": "barpolar"
           }
          ],
          "carpet": [
           {
            "aaxis": {
             "endlinecolor": "#2a3f5f",
             "gridcolor": "white",
             "linecolor": "white",
             "minorgridcolor": "white",
             "startlinecolor": "#2a3f5f"
            },
            "baxis": {
             "endlinecolor": "#2a3f5f",
             "gridcolor": "white",
             "linecolor": "white",
             "minorgridcolor": "white",
             "startlinecolor": "#2a3f5f"
            },
            "type": "carpet"
           }
          ],
          "choropleth": [
           {
            "colorbar": {
             "outlinewidth": 0,
             "ticks": ""
            },
            "type": "choropleth"
           }
          ],
          "contour": [
           {
            "colorbar": {
             "outlinewidth": 0,
             "ticks": ""
            },
            "colorscale": [
             [
              0,
              "#0d0887"
             ],
             [
              0.1111111111111111,
              "#46039f"
             ],
             [
              0.2222222222222222,
              "#7201a8"
             ],
             [
              0.3333333333333333,
              "#9c179e"
             ],
             [
              0.4444444444444444,
              "#bd3786"
             ],
             [
              0.5555555555555556,
              "#d8576b"
             ],
             [
              0.6666666666666666,
              "#ed7953"
             ],
             [
              0.7777777777777778,
              "#fb9f3a"
             ],
             [
              0.8888888888888888,
              "#fdca26"
             ],
             [
              1,
              "#f0f921"
             ]
            ],
            "type": "contour"
           }
          ],
          "contourcarpet": [
           {
            "colorbar": {
             "outlinewidth": 0,
             "ticks": ""
            },
            "type": "contourcarpet"
           }
          ],
          "heatmap": [
           {
            "colorbar": {
             "outlinewidth": 0,
             "ticks": ""
            },
            "colorscale": [
             [
              0,
              "#0d0887"
             ],
             [
              0.1111111111111111,
              "#46039f"
             ],
             [
              0.2222222222222222,
              "#7201a8"
             ],
             [
              0.3333333333333333,
              "#9c179e"
             ],
             [
              0.4444444444444444,
              "#bd3786"
             ],
             [
              0.5555555555555556,
              "#d8576b"
             ],
             [
              0.6666666666666666,
              "#ed7953"
             ],
             [
              0.7777777777777778,
              "#fb9f3a"
             ],
             [
              0.8888888888888888,
              "#fdca26"
             ],
             [
              1,
              "#f0f921"
             ]
            ],
            "type": "heatmap"
           }
          ],
          "heatmapgl": [
           {
            "colorbar": {
             "outlinewidth": 0,
             "ticks": ""
            },
            "colorscale": [
             [
              0,
              "#0d0887"
             ],
             [
              0.1111111111111111,
              "#46039f"
             ],
             [
              0.2222222222222222,
              "#7201a8"
             ],
             [
              0.3333333333333333,
              "#9c179e"
             ],
             [
              0.4444444444444444,
              "#bd3786"
             ],
             [
              0.5555555555555556,
              "#d8576b"
             ],
             [
              0.6666666666666666,
              "#ed7953"
             ],
             [
              0.7777777777777778,
              "#fb9f3a"
             ],
             [
              0.8888888888888888,
              "#fdca26"
             ],
             [
              1,
              "#f0f921"
             ]
            ],
            "type": "heatmapgl"
           }
          ],
          "histogram": [
           {
            "marker": {
             "pattern": {
              "fillmode": "overlay",
              "size": 10,
              "solidity": 0.2
             }
            },
            "type": "histogram"
           }
          ],
          "histogram2d": [
           {
            "colorbar": {
             "outlinewidth": 0,
             "ticks": ""
            },
            "colorscale": [
             [
              0,
              "#0d0887"
             ],
             [
              0.1111111111111111,
              "#46039f"
             ],
             [
              0.2222222222222222,
              "#7201a8"
             ],
             [
              0.3333333333333333,
              "#9c179e"
             ],
             [
              0.4444444444444444,
              "#bd3786"
             ],
             [
              0.5555555555555556,
              "#d8576b"
             ],
             [
              0.6666666666666666,
              "#ed7953"
             ],
             [
              0.7777777777777778,
              "#fb9f3a"
             ],
             [
              0.8888888888888888,
              "#fdca26"
             ],
             [
              1,
              "#f0f921"
             ]
            ],
            "type": "histogram2d"
           }
          ],
          "histogram2dcontour": [
           {
            "colorbar": {
             "outlinewidth": 0,
             "ticks": ""
            },
            "colorscale": [
             [
              0,
              "#0d0887"
             ],
             [
              0.1111111111111111,
              "#46039f"
             ],
             [
              0.2222222222222222,
              "#7201a8"
             ],
             [
              0.3333333333333333,
              "#9c179e"
             ],
             [
              0.4444444444444444,
              "#bd3786"
             ],
             [
              0.5555555555555556,
              "#d8576b"
             ],
             [
              0.6666666666666666,
              "#ed7953"
             ],
             [
              0.7777777777777778,
              "#fb9f3a"
             ],
             [
              0.8888888888888888,
              "#fdca26"
             ],
             [
              1,
              "#f0f921"
             ]
            ],
            "type": "histogram2dcontour"
           }
          ],
          "mesh3d": [
           {
            "colorbar": {
             "outlinewidth": 0,
             "ticks": ""
            },
            "type": "mesh3d"
           }
          ],
          "parcoords": [
           {
            "line": {
             "colorbar": {
              "outlinewidth": 0,
              "ticks": ""
             }
            },
            "type": "parcoords"
           }
          ],
          "pie": [
           {
            "automargin": true,
            "type": "pie"
           }
          ],
          "scatter": [
           {
            "fillpattern": {
             "fillmode": "overlay",
             "size": 10,
             "solidity": 0.2
            },
            "type": "scatter"
           }
          ],
          "scatter3d": [
           {
            "line": {
             "colorbar": {
              "outlinewidth": 0,
              "ticks": ""
             }
            },
            "marker": {
             "colorbar": {
              "outlinewidth": 0,
              "ticks": ""
             }
            },
            "type": "scatter3d"
           }
          ],
          "scattercarpet": [
           {
            "marker": {
             "colorbar": {
              "outlinewidth": 0,
              "ticks": ""
             }
            },
            "type": "scattercarpet"
           }
          ],
          "scattergeo": [
           {
            "marker": {
             "colorbar": {
              "outlinewidth": 0,
              "ticks": ""
             }
            },
            "type": "scattergeo"
           }
          ],
          "scattergl": [
           {
            "marker": {
             "colorbar": {
              "outlinewidth": 0,
              "ticks": ""
             }
            },
            "type": "scattergl"
           }
          ],
          "scattermapbox": [
           {
            "marker": {
             "colorbar": {
              "outlinewidth": 0,
              "ticks": ""
             }
            },
            "type": "scattermapbox"
           }
          ],
          "scatterpolar": [
           {
            "marker": {
             "colorbar": {
              "outlinewidth": 0,
              "ticks": ""
             }
            },
            "type": "scatterpolar"
           }
          ],
          "scatterpolargl": [
           {
            "marker": {
             "colorbar": {
              "outlinewidth": 0,
              "ticks": ""
             }
            },
            "type": "scatterpolargl"
           }
          ],
          "scatterternary": [
           {
            "marker": {
             "colorbar": {
              "outlinewidth": 0,
              "ticks": ""
             }
            },
            "type": "scatterternary"
           }
          ],
          "surface": [
           {
            "colorbar": {
             "outlinewidth": 0,
             "ticks": ""
            },
            "colorscale": [
             [
              0,
              "#0d0887"
             ],
             [
              0.1111111111111111,
              "#46039f"
             ],
             [
              0.2222222222222222,
              "#7201a8"
             ],
             [
              0.3333333333333333,
              "#9c179e"
             ],
             [
              0.4444444444444444,
              "#bd3786"
             ],
             [
              0.5555555555555556,
              "#d8576b"
             ],
             [
              0.6666666666666666,
              "#ed7953"
             ],
             [
              0.7777777777777778,
              "#fb9f3a"
             ],
             [
              0.8888888888888888,
              "#fdca26"
             ],
             [
              1,
              "#f0f921"
             ]
            ],
            "type": "surface"
           }
          ],
          "table": [
           {
            "cells": {
             "fill": {
              "color": "#EBF0F8"
             },
             "line": {
              "color": "white"
             }
            },
            "header": {
             "fill": {
              "color": "#C8D4E3"
             },
             "line": {
              "color": "white"
             }
            },
            "type": "table"
           }
          ]
         },
         "layout": {
          "annotationdefaults": {
           "arrowcolor": "#2a3f5f",
           "arrowhead": 0,
           "arrowwidth": 1
          },
          "autotypenumbers": "strict",
          "coloraxis": {
           "colorbar": {
            "outlinewidth": 0,
            "ticks": ""
           }
          },
          "colorscale": {
           "diverging": [
            [
             0,
             "#8e0152"
            ],
            [
             0.1,
             "#c51b7d"
            ],
            [
             0.2,
             "#de77ae"
            ],
            [
             0.3,
             "#f1b6da"
            ],
            [
             0.4,
             "#fde0ef"
            ],
            [
             0.5,
             "#f7f7f7"
            ],
            [
             0.6,
             "#e6f5d0"
            ],
            [
             0.7,
             "#b8e186"
            ],
            [
             0.8,
             "#7fbc41"
            ],
            [
             0.9,
             "#4d9221"
            ],
            [
             1,
             "#276419"
            ]
           ],
           "sequential": [
            [
             0,
             "#0d0887"
            ],
            [
             0.1111111111111111,
             "#46039f"
            ],
            [
             0.2222222222222222,
             "#7201a8"
            ],
            [
             0.3333333333333333,
             "#9c179e"
            ],
            [
             0.4444444444444444,
             "#bd3786"
            ],
            [
             0.5555555555555556,
             "#d8576b"
            ],
            [
             0.6666666666666666,
             "#ed7953"
            ],
            [
             0.7777777777777778,
             "#fb9f3a"
            ],
            [
             0.8888888888888888,
             "#fdca26"
            ],
            [
             1,
             "#f0f921"
            ]
           ],
           "sequentialminus": [
            [
             0,
             "#0d0887"
            ],
            [
             0.1111111111111111,
             "#46039f"
            ],
            [
             0.2222222222222222,
             "#7201a8"
            ],
            [
             0.3333333333333333,
             "#9c179e"
            ],
            [
             0.4444444444444444,
             "#bd3786"
            ],
            [
             0.5555555555555556,
             "#d8576b"
            ],
            [
             0.6666666666666666,
             "#ed7953"
            ],
            [
             0.7777777777777778,
             "#fb9f3a"
            ],
            [
             0.8888888888888888,
             "#fdca26"
            ],
            [
             1,
             "#f0f921"
            ]
           ]
          },
          "colorway": [
           "#636efa",
           "#EF553B",
           "#00cc96",
           "#ab63fa",
           "#FFA15A",
           "#19d3f3",
           "#FF6692",
           "#B6E880",
           "#FF97FF",
           "#FECB52"
          ],
          "font": {
           "color": "#2a3f5f"
          },
          "geo": {
           "bgcolor": "white",
           "lakecolor": "white",
           "landcolor": "#E5ECF6",
           "showlakes": true,
           "showland": true,
           "subunitcolor": "white"
          },
          "hoverlabel": {
           "align": "left"
          },
          "hovermode": "closest",
          "mapbox": {
           "style": "light"
          },
          "paper_bgcolor": "white",
          "plot_bgcolor": "#E5ECF6",
          "polar": {
           "angularaxis": {
            "gridcolor": "white",
            "linecolor": "white",
            "ticks": ""
           },
           "bgcolor": "#E5ECF6",
           "radialaxis": {
            "gridcolor": "white",
            "linecolor": "white",
            "ticks": ""
           }
          },
          "scene": {
           "xaxis": {
            "backgroundcolor": "#E5ECF6",
            "gridcolor": "white",
            "gridwidth": 2,
            "linecolor": "white",
            "showbackground": true,
            "ticks": "",
            "zerolinecolor": "white"
           },
           "yaxis": {
            "backgroundcolor": "#E5ECF6",
            "gridcolor": "white",
            "gridwidth": 2,
            "linecolor": "white",
            "showbackground": true,
            "ticks": "",
            "zerolinecolor": "white"
           },
           "zaxis": {
            "backgroundcolor": "#E5ECF6",
            "gridcolor": "white",
            "gridwidth": 2,
            "linecolor": "white",
            "showbackground": true,
            "ticks": "",
            "zerolinecolor": "white"
           }
          },
          "shapedefaults": {
           "line": {
            "color": "#2a3f5f"
           }
          },
          "ternary": {
           "aaxis": {
            "gridcolor": "white",
            "linecolor": "white",
            "ticks": ""
           },
           "baxis": {
            "gridcolor": "white",
            "linecolor": "white",
            "ticks": ""
           },
           "bgcolor": "#E5ECF6",
           "caxis": {
            "gridcolor": "white",
            "linecolor": "white",
            "ticks": ""
           }
          },
          "title": {
           "x": 0.05
          },
          "xaxis": {
           "automargin": true,
           "gridcolor": "white",
           "linecolor": "white",
           "ticks": "",
           "title": {
            "standoff": 15
           },
           "zerolinecolor": "white",
           "zerolinewidth": 2
          },
          "yaxis": {
           "automargin": true,
           "gridcolor": "white",
           "linecolor": "white",
           "ticks": "",
           "title": {
            "standoff": 15
           },
           "zerolinecolor": "white",
           "zerolinewidth": 2
          }
         }
        },
        "title": {
         "text": "Average Population Density by Countries"
        },
        "xaxis": {
         "anchor": "y",
         "domain": [
          0,
          1
         ],
         "tickangle": 45,
         "title": {
          "text": "Country Name"
         }
        },
        "yaxis": {
         "anchor": "x",
         "domain": [
          0,
          1
         ],
         "title": {
          "text": "Average Population Density"
         }
        }
       }
      }
     },
     "metadata": {},
     "output_type": "display_data"
    }
   ],
   "source": [
    "# bar plot\n",
    "\n",
    "# Convert to a DataFrame\n",
    "average_density_df = sorted_countries.reset_index()\n",
    "average_density_df  = average_density_df.rename(columns={'Population density (people per sq. km of land area)': 'Average Population Density'})\n",
    "\n",
    "\n",
    "# average_density_df\n",
    "\n",
    "fig_3 = px.bar(average_density_df, x='Country Name', y= 'Average Population Density',\n",
    "               title='Average Population Density by Countries')\n",
    "\n",
    "fig_3.update_xaxes(tickangle=45)\n",
    "\n",
    "fig_3.show()\n"
   ]
  },
  {
   "attachments": {},
   "cell_type": "markdown",
   "metadata": {},
   "source": [
    "## 4. \n",
    "\n",
    "* The country with the Greatest Increase in Life Expectancy:\n",
    "Maldives with 36.916146341499996 increase in life expectancy\n",
    "\n",
    "* and a bar plot I made\n"
   ]
  },
  {
   "cell_type": "code",
   "execution_count": 188,
   "metadata": {},
   "outputs": [
    {
     "name": "stdout",
     "output_type": "stream",
     "text": [
      "The country with the Greatest Increase in Life Expectancy:\n",
      "Maldives with 36.916146341499996 increase in life expectancy\n"
     ]
    }
   ],
   "source": [
    "\n",
    "filtered_df4 = df[df['Year'].isin([1962, 2007])]\n",
    "\n",
    "# Pivot\n",
    "pivot_df4 = filtered_df4.pivot(index='Country Name', columns='Year', values='Life expectancy at birth, total (years)')\n",
    "\n",
    "pivot_df4['increase'] = pivot_df4[2007] - pivot_df4[1962]\n",
    "\n",
    "# sort\n",
    "sorted_countries_4 = pivot_df4.sort_values(by='increase',ascending=False)\n",
    "\n",
    "# get the highest: \n",
    "highest_country_4 = sorted_countries_4[sorted_countries_4['increase']== sorted_countries_4['increase'].max()]\n",
    "con = highest_country_4.index.tolist()[0]\n",
    "val = highest_country_4['increase'].tolist()[0]\n",
    "\n",
    "print(\"The country with the Greatest Increase in Life Expectancy:\")\n",
    "print(f'{con} with {val} increase in life expectancy')\n"
   ]
  },
  {
   "cell_type": "code",
   "execution_count": 189,
   "metadata": {},
   "outputs": [
    {
     "data": {
      "application/vnd.plotly.v1+json": {
       "config": {
        "plotlyServerURL": "https://plot.ly"
       },
       "data": [
        {
         "alignmentgroup": "True",
         "hovertemplate": "country=%{x}<br>increase=%{y}<extra></extra>",
         "legendgroup": "",
         "marker": {
          "color": "#636efa",
          "pattern": {
           "shape": ""
          }
         },
         "name": "",
         "offsetgroup": "",
         "orientation": "v",
         "showlegend": false,
         "textposition": "auto",
         "type": "bar",
         "x": [
          "Maldives",
          "Bhutan",
          "Timor-Leste",
          "Tunisia",
          "Oman",
          "Nepal",
          "China",
          "Yemen, Rep.",
          "Saudi Arabia",
          "Iran, Islamic Rep.",
          "Turkey",
          "East Asia & Pacific (IDA & IBRD countries)",
          "East Asia & Pacific (excluding high income)",
          "Gambia, The",
          "Libya",
          "Algeria",
          "Mali",
          "Korea, Rep.",
          "Afghanistan",
          "Nicaragua",
          "Peru",
          "Honduras",
          "East Asia & Pacific",
          "Guatemala",
          "Senegal",
          "Cambodia",
          "Middle East & North Africa (excluding high income)",
          "Middle East & North Africa",
          "Middle East & North Africa (IDA & IBRD countries)",
          "India",
          "Cabo Verde",
          "South Asia",
          "South Asia (IDA & IBRD)",
          "Late-demographic dividend",
          "Vanuatu",
          "Upper middle income",
          "Morocco",
          "Bolivia",
          "Liberia",
          "Eritrea",
          "United Arab Emirates",
          "Bangladesh",
          "Papua New Guinea",
          "Arab World",
          "Madagascar",
          "Bahrain",
          "Chile",
          "IBRD only",
          "Egypt, Arab Rep.",
          "Samoa",
          "Syrian Arab Republic",
          "Early-demographic dividend",
          "Ecuador",
          "Gabon",
          "Myanmar",
          "Middle income",
          "Niger",
          "Burkina Faso",
          "Benin",
          "South Sudan",
          "El Salvador",
          "Low & middle income",
          "IDA & IBRD total",
          "Lao PDR",
          "Dominican Republic",
          "Guinea",
          "Jordan",
          "Ethiopia",
          "Comoros",
          "Least developed countries: UN classification",
          "Lower middle income",
          "IDA only",
          "Iraq",
          "French Polynesia",
          "Indonesia",
          "Mexico",
          "Fragile and conflict affected situations",
          "Pakistan",
          "Equatorial Guinea",
          "Brazil",
          "Thailand",
          "Low income",
          "Haiti",
          "Latin America & the Caribbean (IDA & IBRD countries)",
          "Korea, Dem. People�s Rep.",
          "Latin America & Caribbean (excluding high income)",
          "New Caledonia",
          "Latin America & Caribbean",
          "Costa Rica",
          "Mauritania",
          "World",
          "Heavily indebted poor countries (HIPC)",
          "Mongolia",
          "Solomon Islands",
          "Mozambique",
          "IDA total",
          "Angola",
          "Somalia",
          "Rwanda",
          "Guam",
          "Colombia",
          "St. Lucia",
          "Pre-demographic dividend",
          "Sierra Leone",
          "Kiribati",
          "Portugal",
          "Qatar",
          "Panama",
          "Guinea-Bissau",
          "Virgin Islands",
          "Hong Kong SAR, China",
          "Vietnam",
          "Singapore",
          "Djibouti",
          "Tanzania",
          "Japan",
          "Pacific island small states",
          "Togo",
          "Bosnia and Herzegovina",
          "Lebanon",
          "Sri Lanka",
          "Congo, Dem. Rep.",
          "Sao Tome and Principe",
          "Macao SAR, China",
          "Cuba",
          "Malawi",
          "Malaysia",
          "Sub-Saharan Africa",
          "Sub-Saharan Africa (IDA & IBRD countries)",
          "Sub-Saharan Africa (excluding high income)",
          "Brunei Darussalam",
          "Venezuela, RB",
          "Ghana",
          "Barbados",
          "Macedonia, FYR",
          "IDA blend",
          "Albania",
          "Italy",
          "Antigua and Barbuda",
          "Fiji",
          "Kuwait",
          "Mauritius",
          "St. Vincent and the Grenadines",
          "Nigeria",
          "Sudan",
          "Burundi",
          "Malta",
          "Spain",
          "Grenada",
          "OECD members",
          "Other small states",
          "Kyrgyz Republic",
          "Austria",
          "France",
          "Finland",
          "Namibia",
          "Bahamas, The",
          "Greece",
          "Switzerland",
          "Cote d'Ivoire",
          "Euro area",
          "High income",
          "Luxembourg",
          "Australia",
          "Croatia",
          "Tajikistan",
          "Cameroon",
          "Chad",
          "Post-demographic dividend",
          "Germany",
          "Micronesia, Fed. Sts.",
          "Tonga",
          "Small states",
          "Slovenia",
          "Argentina",
          "Belgium",
          "Ireland",
          "European Union",
          "Turkmenistan",
          "Puerto Rico",
          "Canada",
          "Georgia",
          "Suriname",
          "Philippines",
          "Montenegro",
          "New Zealand",
          "Cyprus",
          "Jamaica",
          "Channel Islands",
          "United Kingdom",
          "Uganda",
          "Israel",
          "Belize",
          "Central African Republic",
          "Caribbean small states",
          "Aruba",
          "Azerbaijan",
          "Kenya",
          "North America",
          "United States",
          "Botswana",
          "Uzbekistan",
          "Poland",
          "Iceland",
          "Uruguay",
          "Sweden",
          "Paraguay",
          "Europe & Central Asia",
          "Kazakhstan",
          "Armenia",
          "Norway",
          "Czech Republic",
          "Netherlands",
          "Zambia",
          "Central Europe and the Baltics",
          "Congo, Rep.",
          "Denmark",
          "Moldova",
          "Romania",
          "Trinidad and Tobago",
          "Europe & Central Asia (IDA & IBRD countries)",
          "Hungary",
          "Guyana",
          "Europe & Central Asia (excluding high income)",
          "Estonia",
          "Slovak Republic",
          "Bulgaria",
          "South Africa",
          "Swaziland",
          "Lithuania",
          "Latvia",
          "Belarus",
          "Russian Federation",
          "Ukraine",
          "Lesotho",
          "Zimbabwe",
          "American Samoa",
          "Andorra",
          "Bermuda",
          "British Virgin Islands",
          "Cayman Islands",
          "Curacao",
          "Dominica",
          "Faroe Islands",
          "Gibraltar",
          "Greenland",
          "Isle of Man",
          "Kosovo",
          "Liechtenstein",
          "Marshall Islands",
          "Monaco",
          "Nauru",
          "Northern Mariana Islands",
          "Palau",
          "San Marino",
          "Serbia",
          "Seychelles",
          "Sint Maarten (Dutch part)",
          "St. Kitts and Nevis",
          "St. Martin (French part)",
          "Turks and Caicos Islands",
          "Tuvalu",
          "West Bank and Gaza"
         ],
         "xaxis": "x",
         "y": [
          36.916146341499996,
          33.19895121950001,
          31.085146341499993,
          30.860756097599996,
          30.823097560999983,
          30.5996341464,
          29.942097560999997,
          27.215243902399997,
          26.650560975599987,
          26.608390244,
          26.340365853599998,
          26.140864032799996,
          26.017740384299998,
          25.9083414634,
          25.867439024299998,
          25.853365853699998,
          25.7134634147,
          24.8654146341,
          24.6139268293,
          24.2757804878,
          24.244170731700002,
          24.225780487799994,
          24.161698983100003,
          23.4224878049,
          23.338170731700004,
          23.034902439,
          23.031226136199997,
          23.022387012099998,
          23.021217616199998,
          22.883024390299994,
          22.78285365859999,
          22.304956571699996,
          22.304956571699996,
          22.300966809099997,
          22.260536585299995,
          22.1216112849,
          21.990048780400002,
          21.937073170700003,
          21.837073170800004,
          21.8178292682,
          21.7841707317,
          21.775999999999996,
          21.594024390199998,
          21.1984053268,
          21.115195121999996,
          20.8894878049,
          20.7981463415,
          20.768728024899993,
          20.67578048779999,
          20.5912682927,
          20.3782682927,
          20.290744968400006,
          20.1074878048,
          20.0187804878,
          19.9423170731,
          19.9152178534,
          19.789560975600004,
          19.7829268292,
          19.677975609800008,
          19.558731707300005,
          19.541780487800004,
          19.426140362099993,
          19.228998882800006,
          19.018609756100005,
          18.832073170799994,
          18.739097561,
          18.709853658499995,
          18.7093414634,
          18.474585365799996,
          18.434845975200005,
          18.313580842000007,
          17.809934495700006,
          17.780658536500006,
          17.721317073199998,
          17.681926829299996,
          17.4076829269,
          17.27174285880001,
          17.2217560975,
          17.183902439100002,
          17.179170731699998,
          17.129219512199988,
          16.923596187500003,
          16.713585365899995,
          16.658012623699996,
          16.5508780488,
          16.525586640499988,
          16.507317073200007,
          16.378939963800008,
          16.346536585399996,
          16.3145121951,
          16.236963813899997,
          16.157162581,
          15.908121951200009,
          15.8850975609,
          15.709829268299998,
          15.695900832700005,
          15.648146341399993,
          15.2574390244,
          15.108292682900014,
          15.088219512099997,
          14.966292682899997,
          14.948512195100001,
          14.744958255500002,
          14.7355853659,
          14.70646341470001,
          14.627804877999992,
          14.5568292683,
          14.418097560900001,
          14.3882439024,
          14.3618292683,
          14.196731707300003,
          14.073317073100007,
          14.00921951219999,
          13.954902439000001,
          13.915536585399998,
          13.912195121899998,
          13.905312479900005,
          13.878341463400005,
          13.803512195099998,
          13.735487804899996,
          13.682536585300006,
          13.612902438999996,
          13.590707317100005,
          13.440463414600003,
          13.310975609799996,
          13.298317073199996,
          13.201585365900009,
          13.1291145541,
          13.1291145541,
          13.127105735500002,
          13.09965853660001,
          12.95858536579999,
          12.953317073099996,
          12.660243902400005,
          12.4624878049,
          12.308476757200005,
          12.307439024399997,
          12.284390243899992,
          12.204682926800004,
          12.025951219500001,
          11.9615121951,
          11.9438292683,
          11.860195121899991,
          11.7290731708,
          11.6734146342,
          11.595682926800002,
          11.587902439000004,
          11.354146341499998,
          11.174658536599992,
          11.0214569754,
          10.9766562115,
          10.892463414599995,
          10.870975609799999,
          10.797560975700009,
          10.685609756100007,
          10.679707317000009,
          10.651439024399998,
          10.546756097499994,
          10.545365853600003,
          10.545000000000002,
          10.496936269599999,
          10.391097357600003,
          10.384804878099999,
          10.350243902399995,
          10.2973658537,
          10.232804878099998,
          10.073195122000001,
          10.030365853700005,
          9.881827049500004,
          9.841634146399983,
          9.836902439000006,
          9.639707317099997,
          9.635960698200009,
          9.582926829299993,
          9.576439024400003,
          9.5634146342,
          9.5534878048,
          9.453641894300006,
          9.3516341463,
          9.280926829199998,
          9.267317073200005,
          9.186682926800003,
          9.070634146299987,
          9.050170731700007,
          8.978731707300028,
          8.919512195099998,
          8.617268292700004,
          8.612658536599994,
          8.580707317000005,
          8.521951219499996,
          8.507097561000002,
          8.392682926799992,
          8.377658536599995,
          8.3686097561,
          8.264086659999997,
          8.161219512200006,
          8.111926829200002,
          8.047048780499999,
          8.015739247300004,
          7.868292682900005,
          7.8195365853999945,
          7.818195121999992,
          7.817073170699999,
          7.731707317100003,
          7.6543902438999964,
          7.549512195100007,
          7.467926829299998,
          7.432086828400003,
          7.305804878099998,
          7.054804878099986,
          6.947073170699994,
          6.937560975600007,
          6.77365853660001,
          6.623487804900002,
          6.244590015699998,
          5.957365853700004,
          5.8753658535999875,
          5.665707316999992,
          5.5367804878000015,
          5.499463414600001,
          5.372748366599993,
          5.2853658537,
          5.1327560976000015,
          5.120779302600013,
          4.072585365799995,
          3.7129756097999973,
          3.171463414599998,
          2.1832195122000044,
          1.9544390244000027,
          1.8046341463000033,
          1.5890243902000094,
          1.5675853657999994,
          0.4761463415000122,
          -0.9239024390000026,
          -2.5200243901999997,
          -8.100146341399999,
          null,
          null,
          null,
          null,
          null,
          null,
          null,
          null,
          null,
          null,
          null,
          null,
          null,
          null,
          null,
          null,
          null,
          null,
          null,
          null,
          null,
          null,
          null,
          null,
          null,
          null,
          null
         ],
         "yaxis": "y"
        }
       ],
       "layout": {
        "barmode": "relative",
        "legend": {
         "tracegroupgap": 0
        },
        "template": {
         "data": {
          "bar": [
           {
            "error_x": {
             "color": "#2a3f5f"
            },
            "error_y": {
             "color": "#2a3f5f"
            },
            "marker": {
             "line": {
              "color": "#E5ECF6",
              "width": 0.5
             },
             "pattern": {
              "fillmode": "overlay",
              "size": 10,
              "solidity": 0.2
             }
            },
            "type": "bar"
           }
          ],
          "barpolar": [
           {
            "marker": {
             "line": {
              "color": "#E5ECF6",
              "width": 0.5
             },
             "pattern": {
              "fillmode": "overlay",
              "size": 10,
              "solidity": 0.2
             }
            },
            "type": "barpolar"
           }
          ],
          "carpet": [
           {
            "aaxis": {
             "endlinecolor": "#2a3f5f",
             "gridcolor": "white",
             "linecolor": "white",
             "minorgridcolor": "white",
             "startlinecolor": "#2a3f5f"
            },
            "baxis": {
             "endlinecolor": "#2a3f5f",
             "gridcolor": "white",
             "linecolor": "white",
             "minorgridcolor": "white",
             "startlinecolor": "#2a3f5f"
            },
            "type": "carpet"
           }
          ],
          "choropleth": [
           {
            "colorbar": {
             "outlinewidth": 0,
             "ticks": ""
            },
            "type": "choropleth"
           }
          ],
          "contour": [
           {
            "colorbar": {
             "outlinewidth": 0,
             "ticks": ""
            },
            "colorscale": [
             [
              0,
              "#0d0887"
             ],
             [
              0.1111111111111111,
              "#46039f"
             ],
             [
              0.2222222222222222,
              "#7201a8"
             ],
             [
              0.3333333333333333,
              "#9c179e"
             ],
             [
              0.4444444444444444,
              "#bd3786"
             ],
             [
              0.5555555555555556,
              "#d8576b"
             ],
             [
              0.6666666666666666,
              "#ed7953"
             ],
             [
              0.7777777777777778,
              "#fb9f3a"
             ],
             [
              0.8888888888888888,
              "#fdca26"
             ],
             [
              1,
              "#f0f921"
             ]
            ],
            "type": "contour"
           }
          ],
          "contourcarpet": [
           {
            "colorbar": {
             "outlinewidth": 0,
             "ticks": ""
            },
            "type": "contourcarpet"
           }
          ],
          "heatmap": [
           {
            "colorbar": {
             "outlinewidth": 0,
             "ticks": ""
            },
            "colorscale": [
             [
              0,
              "#0d0887"
             ],
             [
              0.1111111111111111,
              "#46039f"
             ],
             [
              0.2222222222222222,
              "#7201a8"
             ],
             [
              0.3333333333333333,
              "#9c179e"
             ],
             [
              0.4444444444444444,
              "#bd3786"
             ],
             [
              0.5555555555555556,
              "#d8576b"
             ],
             [
              0.6666666666666666,
              "#ed7953"
             ],
             [
              0.7777777777777778,
              "#fb9f3a"
             ],
             [
              0.8888888888888888,
              "#fdca26"
             ],
             [
              1,
              "#f0f921"
             ]
            ],
            "type": "heatmap"
           }
          ],
          "heatmapgl": [
           {
            "colorbar": {
             "outlinewidth": 0,
             "ticks": ""
            },
            "colorscale": [
             [
              0,
              "#0d0887"
             ],
             [
              0.1111111111111111,
              "#46039f"
             ],
             [
              0.2222222222222222,
              "#7201a8"
             ],
             [
              0.3333333333333333,
              "#9c179e"
             ],
             [
              0.4444444444444444,
              "#bd3786"
             ],
             [
              0.5555555555555556,
              "#d8576b"
             ],
             [
              0.6666666666666666,
              "#ed7953"
             ],
             [
              0.7777777777777778,
              "#fb9f3a"
             ],
             [
              0.8888888888888888,
              "#fdca26"
             ],
             [
              1,
              "#f0f921"
             ]
            ],
            "type": "heatmapgl"
           }
          ],
          "histogram": [
           {
            "marker": {
             "pattern": {
              "fillmode": "overlay",
              "size": 10,
              "solidity": 0.2
             }
            },
            "type": "histogram"
           }
          ],
          "histogram2d": [
           {
            "colorbar": {
             "outlinewidth": 0,
             "ticks": ""
            },
            "colorscale": [
             [
              0,
              "#0d0887"
             ],
             [
              0.1111111111111111,
              "#46039f"
             ],
             [
              0.2222222222222222,
              "#7201a8"
             ],
             [
              0.3333333333333333,
              "#9c179e"
             ],
             [
              0.4444444444444444,
              "#bd3786"
             ],
             [
              0.5555555555555556,
              "#d8576b"
             ],
             [
              0.6666666666666666,
              "#ed7953"
             ],
             [
              0.7777777777777778,
              "#fb9f3a"
             ],
             [
              0.8888888888888888,
              "#fdca26"
             ],
             [
              1,
              "#f0f921"
             ]
            ],
            "type": "histogram2d"
           }
          ],
          "histogram2dcontour": [
           {
            "colorbar": {
             "outlinewidth": 0,
             "ticks": ""
            },
            "colorscale": [
             [
              0,
              "#0d0887"
             ],
             [
              0.1111111111111111,
              "#46039f"
             ],
             [
              0.2222222222222222,
              "#7201a8"
             ],
             [
              0.3333333333333333,
              "#9c179e"
             ],
             [
              0.4444444444444444,
              "#bd3786"
             ],
             [
              0.5555555555555556,
              "#d8576b"
             ],
             [
              0.6666666666666666,
              "#ed7953"
             ],
             [
              0.7777777777777778,
              "#fb9f3a"
             ],
             [
              0.8888888888888888,
              "#fdca26"
             ],
             [
              1,
              "#f0f921"
             ]
            ],
            "type": "histogram2dcontour"
           }
          ],
          "mesh3d": [
           {
            "colorbar": {
             "outlinewidth": 0,
             "ticks": ""
            },
            "type": "mesh3d"
           }
          ],
          "parcoords": [
           {
            "line": {
             "colorbar": {
              "outlinewidth": 0,
              "ticks": ""
             }
            },
            "type": "parcoords"
           }
          ],
          "pie": [
           {
            "automargin": true,
            "type": "pie"
           }
          ],
          "scatter": [
           {
            "fillpattern": {
             "fillmode": "overlay",
             "size": 10,
             "solidity": 0.2
            },
            "type": "scatter"
           }
          ],
          "scatter3d": [
           {
            "line": {
             "colorbar": {
              "outlinewidth": 0,
              "ticks": ""
             }
            },
            "marker": {
             "colorbar": {
              "outlinewidth": 0,
              "ticks": ""
             }
            },
            "type": "scatter3d"
           }
          ],
          "scattercarpet": [
           {
            "marker": {
             "colorbar": {
              "outlinewidth": 0,
              "ticks": ""
             }
            },
            "type": "scattercarpet"
           }
          ],
          "scattergeo": [
           {
            "marker": {
             "colorbar": {
              "outlinewidth": 0,
              "ticks": ""
             }
            },
            "type": "scattergeo"
           }
          ],
          "scattergl": [
           {
            "marker": {
             "colorbar": {
              "outlinewidth": 0,
              "ticks": ""
             }
            },
            "type": "scattergl"
           }
          ],
          "scattermapbox": [
           {
            "marker": {
             "colorbar": {
              "outlinewidth": 0,
              "ticks": ""
             }
            },
            "type": "scattermapbox"
           }
          ],
          "scatterpolar": [
           {
            "marker": {
             "colorbar": {
              "outlinewidth": 0,
              "ticks": ""
             }
            },
            "type": "scatterpolar"
           }
          ],
          "scatterpolargl": [
           {
            "marker": {
             "colorbar": {
              "outlinewidth": 0,
              "ticks": ""
             }
            },
            "type": "scatterpolargl"
           }
          ],
          "scatterternary": [
           {
            "marker": {
             "colorbar": {
              "outlinewidth": 0,
              "ticks": ""
             }
            },
            "type": "scatterternary"
           }
          ],
          "surface": [
           {
            "colorbar": {
             "outlinewidth": 0,
             "ticks": ""
            },
            "colorscale": [
             [
              0,
              "#0d0887"
             ],
             [
              0.1111111111111111,
              "#46039f"
             ],
             [
              0.2222222222222222,
              "#7201a8"
             ],
             [
              0.3333333333333333,
              "#9c179e"
             ],
             [
              0.4444444444444444,
              "#bd3786"
             ],
             [
              0.5555555555555556,
              "#d8576b"
             ],
             [
              0.6666666666666666,
              "#ed7953"
             ],
             [
              0.7777777777777778,
              "#fb9f3a"
             ],
             [
              0.8888888888888888,
              "#fdca26"
             ],
             [
              1,
              "#f0f921"
             ]
            ],
            "type": "surface"
           }
          ],
          "table": [
           {
            "cells": {
             "fill": {
              "color": "#EBF0F8"
             },
             "line": {
              "color": "white"
             }
            },
            "header": {
             "fill": {
              "color": "#C8D4E3"
             },
             "line": {
              "color": "white"
             }
            },
            "type": "table"
           }
          ]
         },
         "layout": {
          "annotationdefaults": {
           "arrowcolor": "#2a3f5f",
           "arrowhead": 0,
           "arrowwidth": 1
          },
          "autotypenumbers": "strict",
          "coloraxis": {
           "colorbar": {
            "outlinewidth": 0,
            "ticks": ""
           }
          },
          "colorscale": {
           "diverging": [
            [
             0,
             "#8e0152"
            ],
            [
             0.1,
             "#c51b7d"
            ],
            [
             0.2,
             "#de77ae"
            ],
            [
             0.3,
             "#f1b6da"
            ],
            [
             0.4,
             "#fde0ef"
            ],
            [
             0.5,
             "#f7f7f7"
            ],
            [
             0.6,
             "#e6f5d0"
            ],
            [
             0.7,
             "#b8e186"
            ],
            [
             0.8,
             "#7fbc41"
            ],
            [
             0.9,
             "#4d9221"
            ],
            [
             1,
             "#276419"
            ]
           ],
           "sequential": [
            [
             0,
             "#0d0887"
            ],
            [
             0.1111111111111111,
             "#46039f"
            ],
            [
             0.2222222222222222,
             "#7201a8"
            ],
            [
             0.3333333333333333,
             "#9c179e"
            ],
            [
             0.4444444444444444,
             "#bd3786"
            ],
            [
             0.5555555555555556,
             "#d8576b"
            ],
            [
             0.6666666666666666,
             "#ed7953"
            ],
            [
             0.7777777777777778,
             "#fb9f3a"
            ],
            [
             0.8888888888888888,
             "#fdca26"
            ],
            [
             1,
             "#f0f921"
            ]
           ],
           "sequentialminus": [
            [
             0,
             "#0d0887"
            ],
            [
             0.1111111111111111,
             "#46039f"
            ],
            [
             0.2222222222222222,
             "#7201a8"
            ],
            [
             0.3333333333333333,
             "#9c179e"
            ],
            [
             0.4444444444444444,
             "#bd3786"
            ],
            [
             0.5555555555555556,
             "#d8576b"
            ],
            [
             0.6666666666666666,
             "#ed7953"
            ],
            [
             0.7777777777777778,
             "#fb9f3a"
            ],
            [
             0.8888888888888888,
             "#fdca26"
            ],
            [
             1,
             "#f0f921"
            ]
           ]
          },
          "colorway": [
           "#636efa",
           "#EF553B",
           "#00cc96",
           "#ab63fa",
           "#FFA15A",
           "#19d3f3",
           "#FF6692",
           "#B6E880",
           "#FF97FF",
           "#FECB52"
          ],
          "font": {
           "color": "#2a3f5f"
          },
          "geo": {
           "bgcolor": "white",
           "lakecolor": "white",
           "landcolor": "#E5ECF6",
           "showlakes": true,
           "showland": true,
           "subunitcolor": "white"
          },
          "hoverlabel": {
           "align": "left"
          },
          "hovermode": "closest",
          "mapbox": {
           "style": "light"
          },
          "paper_bgcolor": "white",
          "plot_bgcolor": "#E5ECF6",
          "polar": {
           "angularaxis": {
            "gridcolor": "white",
            "linecolor": "white",
            "ticks": ""
           },
           "bgcolor": "#E5ECF6",
           "radialaxis": {
            "gridcolor": "white",
            "linecolor": "white",
            "ticks": ""
           }
          },
          "scene": {
           "xaxis": {
            "backgroundcolor": "#E5ECF6",
            "gridcolor": "white",
            "gridwidth": 2,
            "linecolor": "white",
            "showbackground": true,
            "ticks": "",
            "zerolinecolor": "white"
           },
           "yaxis": {
            "backgroundcolor": "#E5ECF6",
            "gridcolor": "white",
            "gridwidth": 2,
            "linecolor": "white",
            "showbackground": true,
            "ticks": "",
            "zerolinecolor": "white"
           },
           "zaxis": {
            "backgroundcolor": "#E5ECF6",
            "gridcolor": "white",
            "gridwidth": 2,
            "linecolor": "white",
            "showbackground": true,
            "ticks": "",
            "zerolinecolor": "white"
           }
          },
          "shapedefaults": {
           "line": {
            "color": "#2a3f5f"
           }
          },
          "ternary": {
           "aaxis": {
            "gridcolor": "white",
            "linecolor": "white",
            "ticks": ""
           },
           "baxis": {
            "gridcolor": "white",
            "linecolor": "white",
            "ticks": ""
           },
           "bgcolor": "#E5ECF6",
           "caxis": {
            "gridcolor": "white",
            "linecolor": "white",
            "ticks": ""
           }
          },
          "title": {
           "x": 0.05
          },
          "xaxis": {
           "automargin": true,
           "gridcolor": "white",
           "linecolor": "white",
           "ticks": "",
           "title": {
            "standoff": 15
           },
           "zerolinecolor": "white",
           "zerolinewidth": 2
          },
          "yaxis": {
           "automargin": true,
           "gridcolor": "white",
           "linecolor": "white",
           "ticks": "",
           "title": {
            "standoff": 15
           },
           "zerolinecolor": "white",
           "zerolinewidth": 2
          }
         }
        },
        "title": {
         "text": "Countries with Increase in Life Expectancy"
        },
        "xaxis": {
         "anchor": "y",
         "domain": [
          0,
          1
         ],
         "tickangle": 45,
         "title": {
          "text": "country"
         }
        },
        "yaxis": {
         "anchor": "x",
         "domain": [
          0,
          1
         ],
         "title": {
          "text": "increase"
         }
        }
       }
      }
     },
     "metadata": {},
     "output_type": "display_data"
    }
   ],
   "source": [
    "# plot \n",
    "\n",
    "sorted_countries_df5 = sorted_countries_4.reset_index()\n",
    "\n",
    "fig_4 = px.bar(sorted_countries_df5, x='Country Name', y= 'increase', \n",
    "               labels= {'Country Name': 'country'},\n",
    "               title='Countries with Increase in Life Expectancy')\n",
    "\n",
    "fig_4.update_xaxes(tickangle=45)\n",
    "\n",
    "\n",
    "fig_4.show()\n"
   ]
  }
 ],
 "metadata": {
  "kernelspec": {
   "display_name": "Python 3",
   "language": "python",
   "name": "python3"
  },
  "language_info": {
   "codemirror_mode": {
    "name": "ipython",
    "version": 3
   },
   "file_extension": ".py",
   "mimetype": "text/x-python",
   "name": "python",
   "nbconvert_exporter": "python",
   "pygments_lexer": "ipython3",
   "version": "3.10.8"
  },
  "orig_nbformat": 4,
  "vscode": {
   "interpreter": {
    "hash": "c02203d1d64a20e095821dadd6770e07e454ea747f2e6a086ab8a4b96e3b68a3"
   }
  }
 },
 "nbformat": 4,
 "nbformat_minor": 2
}
